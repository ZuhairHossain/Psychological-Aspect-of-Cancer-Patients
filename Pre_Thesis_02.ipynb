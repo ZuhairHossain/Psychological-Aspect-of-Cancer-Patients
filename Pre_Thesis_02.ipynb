{
  "cells": [
    {
      "cell_type": "markdown",
      "metadata": {
        "id": "view-in-github",
        "colab_type": "text"
      },
      "source": [
        "<a href=\"https://colab.research.google.com/github/ZuhairHossain/Psychological-Aspect-of-Cancer-Patients/blob/master/Pre_Thesis_02.ipynb\" target=\"_parent\"><img src=\"https://colab.research.google.com/assets/colab-badge.svg\" alt=\"Open In Colab\"/></a>"
      ]
    },
    {
      "cell_type": "code",
      "execution_count": 644,
      "metadata": {
        "id": "Pl8jNEk4I7TB"
      },
      "outputs": [],
      "source": [
        "# data labelling done till MaritalStatus"
      ]
    },
    {
      "cell_type": "code",
      "execution_count": 645,
      "metadata": {
        "id": "coGXI7Zye0RX"
      },
      "outputs": [],
      "source": [
        "import pandas as pd\n",
        "import io\n",
        "import numpy as np\n",
        "import sklearn"
      ]
    },
    {
      "cell_type": "code",
      "execution_count": 646,
      "metadata": {
        "colab": {
          "base_uri": "https://localhost:8080/",
          "height": 357
        },
        "id": "72aLscuPyMAi",
        "outputId": "f04c33f4-a8ff-4e9a-d8e8-485c192fb590"
      },
      "outputs": [
        {
          "output_type": "execute_result",
          "data": {
            "text/plain": [
              "         PatientName       DataCollectionPlace    Age Gender CurrentAddress  \\\n",
              "0        Nurul Islam  Hospitals Doctor Chamber    65+   Male    Kishoregonj   \n",
              "1         Md. Rafian  Hospitals Doctor Chamber    65+   Male     Jhalokathi   \n",
              "2          Rojob Ali  Hospitals Doctor Chamber  45-64   Male        Tangail   \n",
              "3     Ismail Hossain  Hospitals Doctor Chamber  25-44   Male            NaN   \n",
              "4  Md. Golam Mostafa             Hospital Ward  45-64   Male        Cumilla   \n",
              "\n",
              "  Education   Profession Religion MaritalStatus  TotalChildCount  GirlChild  \\\n",
              "0      <SSC       Farmer    Islam       Married                4        1.0   \n",
              "1       SSC  Shop Keeper    Islam       Married                1        1.0   \n",
              "2      <SSC  House Works    Islam       Widowed                5        1.0   \n",
              "3      <SSC   CNG Driver    Islam       Married                0        NaN   \n",
              "4       SSC      Retired    Islam       Married                3        1.0   \n",
              "\n",
              "   BoyChild   MonthlyEarning CancerType  CancerStage AdmittedHospital  \\\n",
              "0       3.0  Less than 20.6k       Anal            3              Yes   \n",
              "1       0.0  Less than 20.6k      Blood            1              Yes   \n",
              "2       4.0  Less than 20.6k     Throat            3              Yes   \n",
              "3       NaN  Less than 20.6k     Throat            3              Yes   \n",
              "4       2.0  Less than 20.6k      Lungs            3              Yes   \n",
              "\n",
              "  Operation FamilyMemberCancer FamMemSupport HospitalFeesPaymentIssue Loan  \\\n",
              "0       Yes                 No           Yes                Sometimes  Yes   \n",
              "1        No                 No           Yes         Almost Regularly  Yes   \n",
              "2        No                 No           Yes         Almost Regularly   No   \n",
              "3       Yes                Yes           Yes                Regularly  Yes   \n",
              "4       Yes                 No           Yes                Regularly  Yes   \n",
              "\n",
              "  ElectronicDeviceforContact ElectronicDeviceType ContactDeviceWithDoctor  \\\n",
              "0                         No                  NaN              Not at all   \n",
              "1                        Yes           Smartphone               Sometimes   \n",
              "2                        Yes        Button Mobile              Not at all   \n",
              "3                        Yes        Button Mobile              Not at all   \n",
              "4                        Yes        Button Mobile               Sometimes   \n",
              "\n",
              "  InternetAccess InternetUseExperience InternetUseForCancer  \\\n",
              "0             No         No Experience           Not at all   \n",
              "1            Yes                Senior           Not at all   \n",
              "2             No         No Experience           Not at all   \n",
              "3             No         No Experience           Not at all   \n",
              "4             No         No Experience           Not at all   \n",
              "\n",
              "     DataCollectedBy                     PHQ1                     PHQ2  \\\n",
              "0  Zuhair + Mrittika               Not at all  More than half the days   \n",
              "1              Miami            Several\\ndays        Nearly\\nevery day   \n",
              "2           Mrittika        Nearly\\nevery day            Several\\ndays   \n",
              "3              Miami        Nearly\\nevery day        Nearly\\nevery day   \n",
              "4             Zuhair  More than half the days  More than half the days   \n",
              "\n",
              "                      PHQ3                     PHQ4                     PHQ5  \\\n",
              "0        Nearly\\nevery day        Nearly\\nevery day        Nearly\\nevery day   \n",
              "1               Not at all        Nearly\\nevery day  More than half the days   \n",
              "2            Several\\ndays        Nearly\\nevery day               Not at all   \n",
              "3        Nearly\\nevery day               Not at all            Several\\ndays   \n",
              "4  More than half the days  More than half the days        Nearly\\nevery day   \n",
              "\n",
              "                      PHQ6                     PHQ7                     PHQ8  \\\n",
              "0  More than half the days  More than half the days  More than half the days   \n",
              "1        Nearly\\nevery day        Nearly\\nevery day        Nearly\\nevery day   \n",
              "2               Not at all               Not at all               Not at all   \n",
              "3  More than half the days  More than half the days            Several\\ndays   \n",
              "4            Several\\ndays  More than half the days  More than half the days   \n",
              "\n",
              "                      PHQ9        PHQ10 PatientConfused OurPurpose  \\\n",
              "0            Several\\ndays        Tough              No    Neutral   \n",
              "1               Not at all  Not Tougher              No   Friendly   \n",
              "2               Not at all  Not Tougher              No   Friendly   \n",
              "3  More than half the days  Not Tougher              No   Friendly   \n",
              "4               Not at all        Tough              No    Neutral   \n",
              "\n",
              "     PatientType CancerInMyBody  \n",
              "0    Open Minded            Yes  \n",
              "1    Open Minded             No  \n",
              "2    Open Minded             No  \n",
              "3    Open Minded             No  \n",
              "4  narrow Minded             No  "
            ],
            "text/html": [
              "\n",
              "  <div id=\"df-f2825bcb-ab20-4a1e-80c5-4036dd13db5a\">\n",
              "    <div class=\"colab-df-container\">\n",
              "      <div>\n",
              "<style scoped>\n",
              "    .dataframe tbody tr th:only-of-type {\n",
              "        vertical-align: middle;\n",
              "    }\n",
              "\n",
              "    .dataframe tbody tr th {\n",
              "        vertical-align: top;\n",
              "    }\n",
              "\n",
              "    .dataframe thead th {\n",
              "        text-align: right;\n",
              "    }\n",
              "</style>\n",
              "<table border=\"1\" class=\"dataframe\">\n",
              "  <thead>\n",
              "    <tr style=\"text-align: right;\">\n",
              "      <th></th>\n",
              "      <th>PatientName</th>\n",
              "      <th>DataCollectionPlace</th>\n",
              "      <th>Age</th>\n",
              "      <th>Gender</th>\n",
              "      <th>CurrentAddress</th>\n",
              "      <th>Education</th>\n",
              "      <th>Profession</th>\n",
              "      <th>Religion</th>\n",
              "      <th>MaritalStatus</th>\n",
              "      <th>TotalChildCount</th>\n",
              "      <th>GirlChild</th>\n",
              "      <th>BoyChild</th>\n",
              "      <th>MonthlyEarning</th>\n",
              "      <th>CancerType</th>\n",
              "      <th>CancerStage</th>\n",
              "      <th>AdmittedHospital</th>\n",
              "      <th>Operation</th>\n",
              "      <th>FamilyMemberCancer</th>\n",
              "      <th>FamMemSupport</th>\n",
              "      <th>HospitalFeesPaymentIssue</th>\n",
              "      <th>Loan</th>\n",
              "      <th>ElectronicDeviceforContact</th>\n",
              "      <th>ElectronicDeviceType</th>\n",
              "      <th>ContactDeviceWithDoctor</th>\n",
              "      <th>InternetAccess</th>\n",
              "      <th>InternetUseExperience</th>\n",
              "      <th>InternetUseForCancer</th>\n",
              "      <th>DataCollectedBy</th>\n",
              "      <th>PHQ1</th>\n",
              "      <th>PHQ2</th>\n",
              "      <th>PHQ3</th>\n",
              "      <th>PHQ4</th>\n",
              "      <th>PHQ5</th>\n",
              "      <th>PHQ6</th>\n",
              "      <th>PHQ7</th>\n",
              "      <th>PHQ8</th>\n",
              "      <th>PHQ9</th>\n",
              "      <th>PHQ10</th>\n",
              "      <th>PatientConfused</th>\n",
              "      <th>OurPurpose</th>\n",
              "      <th>PatientType</th>\n",
              "      <th>CancerInMyBody</th>\n",
              "    </tr>\n",
              "  </thead>\n",
              "  <tbody>\n",
              "    <tr>\n",
              "      <th>0</th>\n",
              "      <td>Nurul Islam</td>\n",
              "      <td>Hospitals Doctor Chamber</td>\n",
              "      <td>65+</td>\n",
              "      <td>Male</td>\n",
              "      <td>Kishoregonj</td>\n",
              "      <td>&lt;SSC</td>\n",
              "      <td>Farmer</td>\n",
              "      <td>Islam</td>\n",
              "      <td>Married</td>\n",
              "      <td>4</td>\n",
              "      <td>1.0</td>\n",
              "      <td>3.0</td>\n",
              "      <td>Less than 20.6k</td>\n",
              "      <td>Anal</td>\n",
              "      <td>3</td>\n",
              "      <td>Yes</td>\n",
              "      <td>Yes</td>\n",
              "      <td>No</td>\n",
              "      <td>Yes</td>\n",
              "      <td>Sometimes</td>\n",
              "      <td>Yes</td>\n",
              "      <td>No</td>\n",
              "      <td>NaN</td>\n",
              "      <td>Not at all</td>\n",
              "      <td>No</td>\n",
              "      <td>No Experience</td>\n",
              "      <td>Not at all</td>\n",
              "      <td>Zuhair + Mrittika</td>\n",
              "      <td>Not at all</td>\n",
              "      <td>More than half the days</td>\n",
              "      <td>Nearly\\nevery day</td>\n",
              "      <td>Nearly\\nevery day</td>\n",
              "      <td>Nearly\\nevery day</td>\n",
              "      <td>More than half the days</td>\n",
              "      <td>More than half the days</td>\n",
              "      <td>More than half the days</td>\n",
              "      <td>Several\\ndays</td>\n",
              "      <td>Tough</td>\n",
              "      <td>No</td>\n",
              "      <td>Neutral</td>\n",
              "      <td>Open Minded</td>\n",
              "      <td>Yes</td>\n",
              "    </tr>\n",
              "    <tr>\n",
              "      <th>1</th>\n",
              "      <td>Md. Rafian</td>\n",
              "      <td>Hospitals Doctor Chamber</td>\n",
              "      <td>65+</td>\n",
              "      <td>Male</td>\n",
              "      <td>Jhalokathi</td>\n",
              "      <td>SSC</td>\n",
              "      <td>Shop Keeper</td>\n",
              "      <td>Islam</td>\n",
              "      <td>Married</td>\n",
              "      <td>1</td>\n",
              "      <td>1.0</td>\n",
              "      <td>0.0</td>\n",
              "      <td>Less than 20.6k</td>\n",
              "      <td>Blood</td>\n",
              "      <td>1</td>\n",
              "      <td>Yes</td>\n",
              "      <td>No</td>\n",
              "      <td>No</td>\n",
              "      <td>Yes</td>\n",
              "      <td>Almost Regularly</td>\n",
              "      <td>Yes</td>\n",
              "      <td>Yes</td>\n",
              "      <td>Smartphone</td>\n",
              "      <td>Sometimes</td>\n",
              "      <td>Yes</td>\n",
              "      <td>Senior</td>\n",
              "      <td>Not at all</td>\n",
              "      <td>Miami</td>\n",
              "      <td>Several\\ndays</td>\n",
              "      <td>Nearly\\nevery day</td>\n",
              "      <td>Not at all</td>\n",
              "      <td>Nearly\\nevery day</td>\n",
              "      <td>More than half the days</td>\n",
              "      <td>Nearly\\nevery day</td>\n",
              "      <td>Nearly\\nevery day</td>\n",
              "      <td>Nearly\\nevery day</td>\n",
              "      <td>Not at all</td>\n",
              "      <td>Not Tougher</td>\n",
              "      <td>No</td>\n",
              "      <td>Friendly</td>\n",
              "      <td>Open Minded</td>\n",
              "      <td>No</td>\n",
              "    </tr>\n",
              "    <tr>\n",
              "      <th>2</th>\n",
              "      <td>Rojob Ali</td>\n",
              "      <td>Hospitals Doctor Chamber</td>\n",
              "      <td>45-64</td>\n",
              "      <td>Male</td>\n",
              "      <td>Tangail</td>\n",
              "      <td>&lt;SSC</td>\n",
              "      <td>House Works</td>\n",
              "      <td>Islam</td>\n",
              "      <td>Widowed</td>\n",
              "      <td>5</td>\n",
              "      <td>1.0</td>\n",
              "      <td>4.0</td>\n",
              "      <td>Less than 20.6k</td>\n",
              "      <td>Throat</td>\n",
              "      <td>3</td>\n",
              "      <td>Yes</td>\n",
              "      <td>No</td>\n",
              "      <td>No</td>\n",
              "      <td>Yes</td>\n",
              "      <td>Almost Regularly</td>\n",
              "      <td>No</td>\n",
              "      <td>Yes</td>\n",
              "      <td>Button Mobile</td>\n",
              "      <td>Not at all</td>\n",
              "      <td>No</td>\n",
              "      <td>No Experience</td>\n",
              "      <td>Not at all</td>\n",
              "      <td>Mrittika</td>\n",
              "      <td>Nearly\\nevery day</td>\n",
              "      <td>Several\\ndays</td>\n",
              "      <td>Several\\ndays</td>\n",
              "      <td>Nearly\\nevery day</td>\n",
              "      <td>Not at all</td>\n",
              "      <td>Not at all</td>\n",
              "      <td>Not at all</td>\n",
              "      <td>Not at all</td>\n",
              "      <td>Not at all</td>\n",
              "      <td>Not Tougher</td>\n",
              "      <td>No</td>\n",
              "      <td>Friendly</td>\n",
              "      <td>Open Minded</td>\n",
              "      <td>No</td>\n",
              "    </tr>\n",
              "    <tr>\n",
              "      <th>3</th>\n",
              "      <td>Ismail Hossain</td>\n",
              "      <td>Hospitals Doctor Chamber</td>\n",
              "      <td>25-44</td>\n",
              "      <td>Male</td>\n",
              "      <td>NaN</td>\n",
              "      <td>&lt;SSC</td>\n",
              "      <td>CNG Driver</td>\n",
              "      <td>Islam</td>\n",
              "      <td>Married</td>\n",
              "      <td>0</td>\n",
              "      <td>NaN</td>\n",
              "      <td>NaN</td>\n",
              "      <td>Less than 20.6k</td>\n",
              "      <td>Throat</td>\n",
              "      <td>3</td>\n",
              "      <td>Yes</td>\n",
              "      <td>Yes</td>\n",
              "      <td>Yes</td>\n",
              "      <td>Yes</td>\n",
              "      <td>Regularly</td>\n",
              "      <td>Yes</td>\n",
              "      <td>Yes</td>\n",
              "      <td>Button Mobile</td>\n",
              "      <td>Not at all</td>\n",
              "      <td>No</td>\n",
              "      <td>No Experience</td>\n",
              "      <td>Not at all</td>\n",
              "      <td>Miami</td>\n",
              "      <td>Nearly\\nevery day</td>\n",
              "      <td>Nearly\\nevery day</td>\n",
              "      <td>Nearly\\nevery day</td>\n",
              "      <td>Not at all</td>\n",
              "      <td>Several\\ndays</td>\n",
              "      <td>More than half the days</td>\n",
              "      <td>More than half the days</td>\n",
              "      <td>Several\\ndays</td>\n",
              "      <td>More than half the days</td>\n",
              "      <td>Not Tougher</td>\n",
              "      <td>No</td>\n",
              "      <td>Friendly</td>\n",
              "      <td>Open Minded</td>\n",
              "      <td>No</td>\n",
              "    </tr>\n",
              "    <tr>\n",
              "      <th>4</th>\n",
              "      <td>Md. Golam Mostafa</td>\n",
              "      <td>Hospital Ward</td>\n",
              "      <td>45-64</td>\n",
              "      <td>Male</td>\n",
              "      <td>Cumilla</td>\n",
              "      <td>SSC</td>\n",
              "      <td>Retired</td>\n",
              "      <td>Islam</td>\n",
              "      <td>Married</td>\n",
              "      <td>3</td>\n",
              "      <td>1.0</td>\n",
              "      <td>2.0</td>\n",
              "      <td>Less than 20.6k</td>\n",
              "      <td>Lungs</td>\n",
              "      <td>3</td>\n",
              "      <td>Yes</td>\n",
              "      <td>Yes</td>\n",
              "      <td>No</td>\n",
              "      <td>Yes</td>\n",
              "      <td>Regularly</td>\n",
              "      <td>Yes</td>\n",
              "      <td>Yes</td>\n",
              "      <td>Button Mobile</td>\n",
              "      <td>Sometimes</td>\n",
              "      <td>No</td>\n",
              "      <td>No Experience</td>\n",
              "      <td>Not at all</td>\n",
              "      <td>Zuhair</td>\n",
              "      <td>More than half the days</td>\n",
              "      <td>More than half the days</td>\n",
              "      <td>More than half the days</td>\n",
              "      <td>More than half the days</td>\n",
              "      <td>Nearly\\nevery day</td>\n",
              "      <td>Several\\ndays</td>\n",
              "      <td>More than half the days</td>\n",
              "      <td>More than half the days</td>\n",
              "      <td>Not at all</td>\n",
              "      <td>Tough</td>\n",
              "      <td>No</td>\n",
              "      <td>Neutral</td>\n",
              "      <td>narrow Minded</td>\n",
              "      <td>No</td>\n",
              "    </tr>\n",
              "  </tbody>\n",
              "</table>\n",
              "</div>\n",
              "      <button class=\"colab-df-convert\" onclick=\"convertToInteractive('df-f2825bcb-ab20-4a1e-80c5-4036dd13db5a')\"\n",
              "              title=\"Convert this dataframe to an interactive table.\"\n",
              "              style=\"display:none;\">\n",
              "        \n",
              "  <svg xmlns=\"http://www.w3.org/2000/svg\" height=\"24px\"viewBox=\"0 0 24 24\"\n",
              "       width=\"24px\">\n",
              "    <path d=\"M0 0h24v24H0V0z\" fill=\"none\"/>\n",
              "    <path d=\"M18.56 5.44l.94 2.06.94-2.06 2.06-.94-2.06-.94-.94-2.06-.94 2.06-2.06.94zm-11 1L8.5 8.5l.94-2.06 2.06-.94-2.06-.94L8.5 2.5l-.94 2.06-2.06.94zm10 10l.94 2.06.94-2.06 2.06-.94-2.06-.94-.94-2.06-.94 2.06-2.06.94z\"/><path d=\"M17.41 7.96l-1.37-1.37c-.4-.4-.92-.59-1.43-.59-.52 0-1.04.2-1.43.59L10.3 9.45l-7.72 7.72c-.78.78-.78 2.05 0 2.83L4 21.41c.39.39.9.59 1.41.59.51 0 1.02-.2 1.41-.59l7.78-7.78 2.81-2.81c.8-.78.8-2.07 0-2.86zM5.41 20L4 18.59l7.72-7.72 1.47 1.35L5.41 20z\"/>\n",
              "  </svg>\n",
              "      </button>\n",
              "      \n",
              "  <style>\n",
              "    .colab-df-container {\n",
              "      display:flex;\n",
              "      flex-wrap:wrap;\n",
              "      gap: 12px;\n",
              "    }\n",
              "\n",
              "    .colab-df-convert {\n",
              "      background-color: #E8F0FE;\n",
              "      border: none;\n",
              "      border-radius: 50%;\n",
              "      cursor: pointer;\n",
              "      display: none;\n",
              "      fill: #1967D2;\n",
              "      height: 32px;\n",
              "      padding: 0 0 0 0;\n",
              "      width: 32px;\n",
              "    }\n",
              "\n",
              "    .colab-df-convert:hover {\n",
              "      background-color: #E2EBFA;\n",
              "      box-shadow: 0px 1px 2px rgba(60, 64, 67, 0.3), 0px 1px 3px 1px rgba(60, 64, 67, 0.15);\n",
              "      fill: #174EA6;\n",
              "    }\n",
              "\n",
              "    [theme=dark] .colab-df-convert {\n",
              "      background-color: #3B4455;\n",
              "      fill: #D2E3FC;\n",
              "    }\n",
              "\n",
              "    [theme=dark] .colab-df-convert:hover {\n",
              "      background-color: #434B5C;\n",
              "      box-shadow: 0px 1px 3px 1px rgba(0, 0, 0, 0.15);\n",
              "      filter: drop-shadow(0px 1px 2px rgba(0, 0, 0, 0.3));\n",
              "      fill: #FFFFFF;\n",
              "    }\n",
              "  </style>\n",
              "\n",
              "      <script>\n",
              "        const buttonEl =\n",
              "          document.querySelector('#df-f2825bcb-ab20-4a1e-80c5-4036dd13db5a button.colab-df-convert');\n",
              "        buttonEl.style.display =\n",
              "          google.colab.kernel.accessAllowed ? 'block' : 'none';\n",
              "\n",
              "        async function convertToInteractive(key) {\n",
              "          const element = document.querySelector('#df-f2825bcb-ab20-4a1e-80c5-4036dd13db5a');\n",
              "          const dataTable =\n",
              "            await google.colab.kernel.invokeFunction('convertToInteractive',\n",
              "                                                     [key], {});\n",
              "          if (!dataTable) return;\n",
              "\n",
              "          const docLinkHtml = 'Like what you see? Visit the ' +\n",
              "            '<a target=\"_blank\" href=https://colab.research.google.com/notebooks/data_table.ipynb>data table notebook</a>'\n",
              "            + ' to learn more about interactive tables.';\n",
              "          element.innerHTML = '';\n",
              "          dataTable['output_type'] = 'display_data';\n",
              "          await google.colab.output.renderOutput(dataTable, element);\n",
              "          const docLink = document.createElement('div');\n",
              "          docLink.innerHTML = docLinkHtml;\n",
              "          element.appendChild(docLink);\n",
              "        }\n",
              "      </script>\n",
              "    </div>\n",
              "  </div>\n",
              "  "
            ]
          },
          "metadata": {},
          "execution_count": 646
        }
      ],
      "source": [
        "df = pd.read_csv(\"https://raw.githubusercontent.com/ZuhairHossain/Psychological-Aspect-of-Cancer-Patients/master/cancer_manual_data.csv\")\n",
        "\n",
        "pd.set_option('display.max_columns', None)\n",
        "df.head()"
      ]
    },
    {
      "cell_type": "markdown",
      "metadata": {
        "id": "PEqxjMoz35ei"
      },
      "source": [
        "#Encoding Categorical values\n"
      ]
    },
    {
      "cell_type": "code",
      "execution_count": 647,
      "metadata": {
        "id": "3WcOaTmrDxQD"
      },
      "outputs": [],
      "source": [
        "df = df.drop(['PatientName'], axis=1)"
      ]
    },
    {
      "cell_type": "code",
      "execution_count": 648,
      "metadata": {
        "colab": {
          "base_uri": "https://localhost:8080/"
        },
        "id": "2An3nkAW35DJ",
        "outputId": "a565f59a-6181-4538-a303-15a6f1fab70e"
      },
      "outputs": [
        {
          "output_type": "execute_result",
          "data": {
            "text/plain": [
              "array(['Hospitals Doctor Chamber', 'Hospital Ward'], dtype=object)"
            ]
          },
          "metadata": {},
          "execution_count": 648
        }
      ],
      "source": [
        "df['DataCollectionPlace'].unique()"
      ]
    },
    {
      "cell_type": "code",
      "execution_count": 649,
      "metadata": {
        "colab": {
          "base_uri": "https://localhost:8080/"
        },
        "id": "UA6hkwFf4BYS",
        "outputId": "069c5d29-dd54-4d20-cf2d-afd3f4b66caa"
      },
      "outputs": [
        {
          "output_type": "stream",
          "name": "stdout",
          "text": [
            "[1 2]\n"
          ]
        }
      ],
      "source": [
        "df['DataCollectionPlace'] = df['DataCollectionPlace'].map({'Hospitals Doctor Chamber': 1, 'Hospital Ward':2})\n",
        "print(df.DataCollectionPlace.unique())"
      ]
    },
    {
      "cell_type": "code",
      "execution_count": 650,
      "metadata": {
        "colab": {
          "base_uri": "https://localhost:8080/"
        },
        "id": "YKqMFhq04XTW",
        "outputId": "d06bdb21-196d-4c10-966b-c5f713d690c3"
      },
      "outputs": [
        {
          "output_type": "execute_result",
          "data": {
            "text/plain": [
              "array(['65+', '45-64', '25-44', '18-24'], dtype=object)"
            ]
          },
          "metadata": {},
          "execution_count": 650
        }
      ],
      "source": [
        "df['Age'].unique()"
      ]
    },
    {
      "cell_type": "code",
      "execution_count": 651,
      "metadata": {
        "colab": {
          "base_uri": "https://localhost:8080/"
        },
        "id": "D85m4bsd4pjz",
        "outputId": "2b8258d2-9734-4a27-f375-b656050f1ce8"
      },
      "outputs": [
        {
          "output_type": "stream",
          "name": "stdout",
          "text": [
            "[4 3 2 1]\n"
          ]
        }
      ],
      "source": [
        "df['Age'] = df['Age'].map({'18-24': 1, '25-44':2, '45-64':3,'65+':4})\n",
        "print(df.Age.unique())"
      ]
    },
    {
      "cell_type": "code",
      "execution_count": 652,
      "metadata": {
        "colab": {
          "base_uri": "https://localhost:8080/"
        },
        "id": "rsP9FlJ_5H9T",
        "outputId": "ae2f4b6d-2aef-4fe3-a322-53d220f16e41"
      },
      "outputs": [
        {
          "output_type": "execute_result",
          "data": {
            "text/plain": [
              "array(['Male', 'Female'], dtype=object)"
            ]
          },
          "metadata": {},
          "execution_count": 652
        }
      ],
      "source": [
        "df['Gender'].unique()"
      ]
    },
    {
      "cell_type": "code",
      "execution_count": 653,
      "metadata": {
        "colab": {
          "base_uri": "https://localhost:8080/"
        },
        "id": "3y3xs6qb5L2l",
        "outputId": "04ea4341-a05a-4e99-84f0-4d8e725fb2b5"
      },
      "outputs": [
        {
          "output_type": "stream",
          "name": "stdout",
          "text": [
            "[1 2]\n"
          ]
        }
      ],
      "source": [
        "df['Gender'] = df['Gender'].map({'Male': 1, 'Female':2})\n",
        "print(df.Gender.unique())"
      ]
    },
    {
      "cell_type": "code",
      "execution_count": 654,
      "metadata": {
        "colab": {
          "base_uri": "https://localhost:8080/"
        },
        "id": "Ttn056PB5UtR",
        "outputId": "b4e73c1d-fab2-46cf-cbbc-cad59b426e64"
      },
      "outputs": [
        {
          "output_type": "execute_result",
          "data": {
            "text/plain": [
              "array(['Kishoregonj', 'Jhalokathi', 'Tangail', nan, 'Cumilla',\n",
              "       'Gopalgonj', 'Jhinaidah', 'Barisal', 'Narayanginj', 'Dhaka',\n",
              "       'Bogura', 'Feni', 'Sylhet', 'Tongi', 'Dinajpur', 'Thakurgaon',\n",
              "       'Nilfamari', 'Rangamati', 'Pabna', 'Noakhali', 'Bhola', 'Jamalpur',\n",
              "       'Narail', 'Kurigram', 'Chittagong', \"Cox's Bazar\", 'Mymensingh'],\n",
              "      dtype=object)"
            ]
          },
          "metadata": {},
          "execution_count": 654
        }
      ],
      "source": [
        "df['CurrentAddress'].unique()"
      ]
    },
    {
      "cell_type": "code",
      "execution_count": 655,
      "metadata": {
        "colab": {
          "base_uri": "https://localhost:8080/"
        },
        "id": "PMP71Zjb5mze",
        "outputId": "b07c41c6-3a48-4e8c-a307-701c9722b2d1"
      },
      "outputs": [
        {
          "output_type": "execute_result",
          "data": {
            "text/plain": [
              "array(['<SSC', 'SSC', 'HSC', 'Bachelor', 'Diploma', 'Ph.D', 'Masters'],\n",
              "      dtype=object)"
            ]
          },
          "metadata": {},
          "execution_count": 655
        }
      ],
      "source": [
        "df['Education'].unique()"
      ]
    },
    {
      "cell_type": "code",
      "execution_count": 656,
      "metadata": {
        "colab": {
          "base_uri": "https://localhost:8080/"
        },
        "id": "JNtJPSKG72_Z",
        "outputId": "b4463100-685b-4973-bd50-e6da0f23c56c"
      },
      "outputs": [
        {
          "output_type": "stream",
          "name": "stdout",
          "text": [
            "[1 2 3 4 5 6 7]\n"
          ]
        }
      ],
      "source": [
        "df['Education'] = df['Education'].map({'<SSC': 1, 'SSC':2, 'HSC':3,'Bachelor':4 ,'Diploma':5,'Ph.D':6,'Masters':7})\n",
        "print(df.Education.unique())"
      ]
    },
    {
      "cell_type": "code",
      "execution_count": 657,
      "metadata": {
        "colab": {
          "base_uri": "https://localhost:8080/"
        },
        "id": "MlyW62liEAU5",
        "outputId": "a61cd1cd-2dd3-45c8-f77d-a9b5ef296518"
      },
      "outputs": [
        {
          "output_type": "execute_result",
          "data": {
            "text/plain": [
              "array(['Farmer', 'Shop Keeper', 'House Works', 'CNG Driver', 'Retired',\n",
              "       'Small Business', 'House Wife', 'Teacher', 'Student', 'Job Holder',\n",
              "       'Day Labour', 'Banker', 'Government Job', 'Large Business',\n",
              "       'Defense'], dtype=object)"
            ]
          },
          "metadata": {},
          "execution_count": 657
        }
      ],
      "source": [
        "df['Profession'].unique()"
      ]
    },
    {
      "cell_type": "code",
      "execution_count": 658,
      "metadata": {
        "colab": {
          "base_uri": "https://localhost:8080/"
        },
        "id": "GAdVNkm4FOYH",
        "outputId": "0781eabf-0ed5-4036-c438-3690e4cbad39"
      },
      "outputs": [
        {
          "output_type": "stream",
          "name": "stdout",
          "text": [
            "[1 2 3 4 5 6 7]\n"
          ]
        }
      ],
      "source": [
        "df['Profession'] = df['Profession'].map({'Farmer': 1, 'Shop Keeper':2, 'House Works':3,'CNG Driver':4 ,'Retired':5,'Small Business':6,\n",
        "                                         'House Wife':7, 'Teacher':8, 'Student':9, 'Large Business':10,'Job Holder':11,\n",
        "                                         'Day Labour':12, 'Banker':13, 'Government Job':14, 'Defense':15})\n",
        "print(df.Education.unique())"
      ]
    },
    {
      "cell_type": "code",
      "execution_count": 659,
      "metadata": {
        "colab": {
          "base_uri": "https://localhost:8080/"
        },
        "id": "tQuxIAZZGG94",
        "outputId": "0021e3b4-274a-418c-b84f-7fb5ca9a5891"
      },
      "outputs": [
        {
          "output_type": "execute_result",
          "data": {
            "text/plain": [
              "array(['Islam'], dtype=object)"
            ]
          },
          "metadata": {},
          "execution_count": 659
        }
      ],
      "source": [
        "df['Religion'].unique()"
      ]
    },
    {
      "cell_type": "code",
      "execution_count": 660,
      "metadata": {
        "colab": {
          "base_uri": "https://localhost:8080/"
        },
        "id": "l82keVhaGKu_",
        "outputId": "c8a024f1-d6bd-4c79-f7ce-6119217fa055"
      },
      "outputs": [
        {
          "output_type": "stream",
          "name": "stdout",
          "text": [
            "[1]\n"
          ]
        }
      ],
      "source": [
        "df['Religion'] = df['Religion'].map({'Islam': 1})\n",
        "print(df.Religion.unique())"
      ]
    },
    {
      "cell_type": "code",
      "execution_count": 661,
      "metadata": {
        "colab": {
          "base_uri": "https://localhost:8080/"
        },
        "id": "xUJZ7TCCGc9z",
        "outputId": "ef3df902-d297-4076-c84d-0bc20f4721d6"
      },
      "outputs": [
        {
          "output_type": "execute_result",
          "data": {
            "text/plain": [
              "array(['Married', 'Widowed', 'Unmarried', 'Divorced'], dtype=object)"
            ]
          },
          "metadata": {},
          "execution_count": 661
        }
      ],
      "source": [
        "df['MaritalStatus'].unique()"
      ]
    },
    {
      "cell_type": "code",
      "execution_count": 662,
      "metadata": {
        "colab": {
          "base_uri": "https://localhost:8080/"
        },
        "id": "a242QC8qGgCX",
        "outputId": "7e4bc36a-dc77-42b5-b47f-87fbad715a15"
      },
      "outputs": [
        {
          "output_type": "stream",
          "name": "stdout",
          "text": [
            "[1 3 2 4]\n"
          ]
        }
      ],
      "source": [
        "df['MaritalStatus'] = df['MaritalStatus'].map({'Married': 1, 'Unmarried':2, 'Widowed':3, 'Divorced':4})\n",
        "print(df.MaritalStatus.unique())"
      ]
    },
    {
      "cell_type": "code",
      "execution_count": 663,
      "metadata": {
        "colab": {
          "base_uri": "https://localhost:8080/"
        },
        "id": "_8jQ9KpoeJhN",
        "outputId": "c560de19-cec8-48a3-dcc2-4389b7362a8a"
      },
      "outputs": [
        {
          "output_type": "execute_result",
          "data": {
            "text/plain": [
              "array(['Anal', 'Blood', 'Throat', 'Lungs', 'Prostate', 'Breast',\n",
              "       'Cervical', 'Ovary', 'Lip and Oral', 'Stomach', 'Liver', 'Bladder',\n",
              "       'Leukomia'], dtype=object)"
            ]
          },
          "metadata": {},
          "execution_count": 663
        }
      ],
      "source": [
        "df['CancerType'].unique()"
      ]
    },
    {
      "cell_type": "code",
      "execution_count": 664,
      "metadata": {
        "colab": {
          "base_uri": "https://localhost:8080/"
        },
        "id": "tpuUiiK7eM9_",
        "outputId": "324ee002-c410-4526-c24f-e879585b6968"
      },
      "outputs": [
        {
          "output_type": "stream",
          "name": "stdout",
          "text": [
            "[ 1  2  4  5  6  7  8  9 10 11 12 13 14]\n"
          ]
        }
      ],
      "source": [
        "df['CancerType'] = df['CancerType'].map({'Anal': 1, 'Blood':2, 'Throat':3, 'Throat':4, 'Lungs':5, 'Prostate':6, 'Breast':7,\n",
        "                                         'Cervical':8, 'Ovary':9, 'Lip and Oral':10, 'Stomach':11, 'Liver':12, 'Bladder':13,\n",
        "                                         'Leukomia': 14})\n",
        "print(df.CancerType.unique())"
      ]
    },
    {
      "cell_type": "code",
      "execution_count": 665,
      "metadata": {
        "id": "WfetM1cEG08l"
      },
      "outputs": [],
      "source": [
        "# for instance dropping this current address column, may use for later purpose\n",
        "df=df.drop(['CurrentAddress', 'DataCollectedBy', 'AdmittedHospital','ElectronicDeviceforContact','ElectronicDeviceType','ContactDeviceWithDoctor',\n",
        "            'InternetAccess', 'InternetUseExperience', 'PatientConfused', 'OurPurpose', 'PatientType', 'GirlChild', 'BoyChild'], axis=1)"
      ]
    },
    {
      "cell_type": "code",
      "execution_count": 666,
      "metadata": {
        "colab": {
          "base_uri": "https://localhost:8080/"
        },
        "id": "bmkIu0Qyjr8m",
        "outputId": "869bd52c-eb25-482f-9603-aa05ce46d487"
      },
      "outputs": [
        {
          "output_type": "execute_result",
          "data": {
            "text/plain": [
              "array(['Less than 20.6k', '20.6K-51.6K', '51.6K+'], dtype=object)"
            ]
          },
          "metadata": {},
          "execution_count": 666
        }
      ],
      "source": [
        "df['MonthlyEarning'].unique()"
      ]
    },
    {
      "cell_type": "code",
      "execution_count": 667,
      "metadata": {
        "colab": {
          "base_uri": "https://localhost:8080/"
        },
        "id": "HFbfaTJ3jwQ9",
        "outputId": "2cefef3d-273a-4bec-e060-72f68d8a4373"
      },
      "outputs": [
        {
          "output_type": "stream",
          "name": "stdout",
          "text": [
            "[1 3 2 4]\n"
          ]
        }
      ],
      "source": [
        "df['MonthlyEarning'] = df['MonthlyEarning'].map({'Less than 20.6k': 1, '20.6K-51.6K':2, '51.6K+':3})\n",
        "print(df.MaritalStatus.unique())"
      ]
    },
    {
      "cell_type": "code",
      "execution_count": 668,
      "metadata": {
        "colab": {
          "base_uri": "https://localhost:8080/"
        },
        "id": "WdlCoQ3NpO4y",
        "outputId": "10e569ad-a5c0-40cb-b232-a0785c40e0fd"
      },
      "outputs": [
        {
          "output_type": "execute_result",
          "data": {
            "text/plain": [
              "array(['Yes', 'No'], dtype=object)"
            ]
          },
          "metadata": {},
          "execution_count": 668
        }
      ],
      "source": [
        "df['Operation'].unique()"
      ]
    },
    {
      "cell_type": "code",
      "execution_count": 669,
      "metadata": {
        "colab": {
          "base_uri": "https://localhost:8080/"
        },
        "id": "RqX-vGp9palJ",
        "outputId": "6f4b5438-9e9c-40c3-e4d1-ba148239b1da"
      },
      "outputs": [
        {
          "output_type": "stream",
          "name": "stdout",
          "text": [
            "[0 1]\n"
          ]
        }
      ],
      "source": [
        "df['Operation'] = df['Operation'].map({'Yes': 0, 'No':1})\n",
        "print(df.Operation.unique())"
      ]
    },
    {
      "cell_type": "code",
      "execution_count": 670,
      "metadata": {
        "colab": {
          "base_uri": "https://localhost:8080/"
        },
        "id": "nLO0yaRGpqRC",
        "outputId": "e3d636c4-5f6c-40d7-9466-76cb44beb42a"
      },
      "outputs": [
        {
          "output_type": "execute_result",
          "data": {
            "text/plain": [
              "array(['No', 'Yes'], dtype=object)"
            ]
          },
          "metadata": {},
          "execution_count": 670
        }
      ],
      "source": [
        "df['FamilyMemberCancer'].unique()"
      ]
    },
    {
      "cell_type": "code",
      "execution_count": 671,
      "metadata": {
        "colab": {
          "base_uri": "https://localhost:8080/"
        },
        "id": "Lh6mNSIdpvxd",
        "outputId": "25baf66b-0942-4d4f-e206-37351fca8773"
      },
      "outputs": [
        {
          "output_type": "stream",
          "name": "stdout",
          "text": [
            "[1 0]\n"
          ]
        }
      ],
      "source": [
        "df['FamilyMemberCancer'] = df['FamilyMemberCancer'].map({'Yes': 0, 'No':1})\n",
        "print(df.FamilyMemberCancer.unique())"
      ]
    },
    {
      "cell_type": "code",
      "execution_count": 672,
      "metadata": {
        "colab": {
          "base_uri": "https://localhost:8080/"
        },
        "id": "kfg99pemqFkC",
        "outputId": "5ec9d988-9e72-48c1-824c-927a0977dd2a"
      },
      "outputs": [
        {
          "output_type": "execute_result",
          "data": {
            "text/plain": [
              "array(['Yes', 'No'], dtype=object)"
            ]
          },
          "metadata": {},
          "execution_count": 672
        }
      ],
      "source": [
        "df['FamMemSupport'].unique()"
      ]
    },
    {
      "cell_type": "code",
      "execution_count": 673,
      "metadata": {
        "colab": {
          "base_uri": "https://localhost:8080/"
        },
        "id": "dCBgca2KqJUK",
        "outputId": "b02dbe06-6780-4940-bf5e-94d07df4b8e7"
      },
      "outputs": [
        {
          "output_type": "stream",
          "name": "stdout",
          "text": [
            "[0 1]\n"
          ]
        }
      ],
      "source": [
        "df['FamMemSupport'] = df['FamMemSupport'].map({'Yes': 0, 'No':1})\n",
        "print(df.FamMemSupport.unique())"
      ]
    },
    {
      "cell_type": "code",
      "execution_count": 674,
      "metadata": {
        "colab": {
          "base_uri": "https://localhost:8080/"
        },
        "id": "uiUJAhDcqOBy",
        "outputId": "238ca6fe-636c-492f-be4c-b60d49421bf7"
      },
      "outputs": [
        {
          "output_type": "execute_result",
          "data": {
            "text/plain": [
              "array(['Sometimes', 'Almost Regularly', 'Regularly', 'Little not',\n",
              "       'Not at all'], dtype=object)"
            ]
          },
          "metadata": {},
          "execution_count": 674
        }
      ],
      "source": [
        "df['HospitalFeesPaymentIssue'].unique()"
      ]
    },
    {
      "cell_type": "code",
      "execution_count": 675,
      "metadata": {
        "colab": {
          "base_uri": "https://localhost:8080/"
        },
        "id": "ylvMxk-AqX34",
        "outputId": "65cb1241-bc6e-47d1-edd8-49efba8d454e"
      },
      "outputs": [
        {
          "output_type": "stream",
          "name": "stdout",
          "text": [
            "[3 4 5 2 1]\n"
          ]
        }
      ],
      "source": [
        "df['HospitalFeesPaymentIssue'] = df['HospitalFeesPaymentIssue'].map({'Sometimes': 3, 'Almost Regularly':4, 'Regularly':5, 'Little not':2, 'Not at all':1})\n",
        "print(df.HospitalFeesPaymentIssue.unique())"
      ]
    },
    {
      "cell_type": "code",
      "execution_count": 676,
      "metadata": {
        "colab": {
          "base_uri": "https://localhost:8080/"
        },
        "id": "orTVzQIJrIax",
        "outputId": "a43edf34-689c-477a-c9e6-f89733aca5ab"
      },
      "outputs": [
        {
          "output_type": "stream",
          "name": "stdout",
          "text": [
            "[0 1]\n"
          ]
        }
      ],
      "source": [
        "df['Loan'] = df['Loan'].map({'Yes': 0, 'No':1})\n",
        "print(df.Loan.unique())"
      ]
    },
    {
      "cell_type": "code",
      "execution_count": 677,
      "metadata": {
        "colab": {
          "base_uri": "https://localhost:8080/"
        },
        "id": "t5I8TzXvrjzs",
        "outputId": "a77df097-f794-4bf3-8a15-3ada23951287"
      },
      "outputs": [
        {
          "output_type": "execute_result",
          "data": {
            "text/plain": [
              "array(['Not at all', 'Sometimes', 'Almost Regularly', 'Regularly',\n",
              "       'Little not'], dtype=object)"
            ]
          },
          "metadata": {},
          "execution_count": 677
        }
      ],
      "source": [
        "df['InternetUseForCancer'].unique()"
      ]
    },
    {
      "cell_type": "code",
      "execution_count": 678,
      "metadata": {
        "colab": {
          "base_uri": "https://localhost:8080/"
        },
        "id": "FScDSnA4roq_",
        "outputId": "b5765c8b-5015-4bf7-f1ab-fbf489293664"
      },
      "outputs": [
        {
          "output_type": "stream",
          "name": "stdout",
          "text": [
            "[1 3 4 5 2]\n"
          ]
        }
      ],
      "source": [
        "df['InternetUseForCancer'] = df['InternetUseForCancer'].map({'Sometimes': 3, 'Almost Regularly':4, 'Regularly':5, 'Little not':2, 'Not at all':1})\n",
        "print(df.InternetUseForCancer.unique())"
      ]
    },
    {
      "cell_type": "code",
      "execution_count": 679,
      "metadata": {
        "colab": {
          "base_uri": "https://localhost:8080/"
        },
        "id": "HQGar8t3mUA5",
        "outputId": "806c0ca4-a708-4ffe-d6e5-a78780a17e8e"
      },
      "outputs": [
        {
          "output_type": "execute_result",
          "data": {
            "text/plain": [
              "array(['Not at all', 'Several\\ndays', 'Nearly\\nevery day',\n",
              "       'More than half the days'], dtype=object)"
            ]
          },
          "metadata": {},
          "execution_count": 679
        }
      ],
      "source": [
        "df['PHQ1'].unique()"
      ]
    },
    {
      "cell_type": "code",
      "execution_count": 680,
      "metadata": {
        "id": "q_oOkXtEmlf1"
      },
      "outputs": [],
      "source": [
        "df['PHQ1'] = df ['PHQ1'].map({'Not at all':0, 'Several\\ndays':1, 'Nearly\\nevery day':2, 'More than half the days':3})\n",
        "df['PHQ2'] = df ['PHQ2'].map({'Not at all':0, 'Several\\ndays':1, 'Nearly\\nevery day':2, 'More than half the days':3})\n",
        "df['PHQ3'] = df ['PHQ3'].map({'Not at all':0, 'Several\\ndays':1, 'Nearly\\nevery day':2, 'More than half the days':3})\n",
        "df['PHQ4'] = df ['PHQ4'].map({'Not at all':0, 'Several\\ndays':1, 'Nearly\\nevery day':2, 'More than half the days':3})\n",
        "df['PHQ5'] = df ['PHQ5'].map({'Not at all':0, 'Several\\ndays':1, 'Nearly\\nevery day':2, 'More than half the days':3})\n",
        "df['PHQ6'] = df ['PHQ6'].map({'Not at all':0, 'Several\\ndays':1, 'Nearly\\nevery day':2, 'More than half the days':3})\n",
        "df['PHQ7'] = df ['PHQ7'].map({'Not at all':0, 'Several\\ndays':1, 'Nearly\\nevery day':2, 'More than half the days':3})\n",
        "df['PHQ8'] = df ['PHQ8'].map({'Not at all':0, 'Several\\ndays':1, 'Nearly\\nevery day':2, 'More than half the days':3})\n",
        "df['PHQ9'] = df ['PHQ9'].map({'Not at all':0, 'Several\\ndays':1, 'Nearly\\nevery day':2, 'More than half the days':3})"
      ]
    },
    {
      "cell_type": "code",
      "execution_count": 681,
      "metadata": {
        "colab": {
          "base_uri": "https://localhost:8080/"
        },
        "id": "H4zD_WVnrz8e",
        "outputId": "4e0eee76-0f87-4a0a-a002-97effd57fa8e"
      },
      "outputs": [
        {
          "output_type": "execute_result",
          "data": {
            "text/plain": [
              "array(['Tough', 'Not Tougher', 'Toughest', 'Tougher'], dtype=object)"
            ]
          },
          "metadata": {},
          "execution_count": 681
        }
      ],
      "source": [
        "df['PHQ10'].unique()"
      ]
    },
    {
      "cell_type": "code",
      "execution_count": 682,
      "metadata": {
        "colab": {
          "base_uri": "https://localhost:8080/"
        },
        "id": "acMcqaOtr5gd",
        "outputId": "10f4cf2e-3bdb-49af-e151-b73a0b7063de"
      },
      "outputs": [
        {
          "output_type": "stream",
          "name": "stdout",
          "text": [
            "[2 1 4 3]\n"
          ]
        }
      ],
      "source": [
        "df['PHQ10'] = df['PHQ10'].map({'Not Tougher': 1, 'Tough':2, 'Tougher':3, 'Toughest':4})\n",
        "print(df.PHQ10.unique())"
      ]
    },
    {
      "cell_type": "code",
      "execution_count": 683,
      "metadata": {
        "colab": {
          "base_uri": "https://localhost:8080/"
        },
        "id": "DL88f2Wlsatw",
        "outputId": "50c42aac-109b-44fe-e047-dc8feed61801"
      },
      "outputs": [
        {
          "output_type": "stream",
          "name": "stdout",
          "text": [
            "[0 1]\n"
          ]
        }
      ],
      "source": [
        "df['CancerInMyBody'] = df['CancerInMyBody'].map({'Yes': 0, 'No':1})\n",
        "print(df.CancerInMyBody.unique())"
      ]
    },
    {
      "cell_type": "code",
      "execution_count": 684,
      "metadata": {
        "id": "cm-WgiPqkK-W"
      },
      "outputs": [],
      "source": [
        "phq9 = ['PHQ1','PHQ2','PHQ3','PHQ4','PHQ5','PHQ6','PHQ7','PHQ8','PHQ9']\n",
        "\n",
        "df['PHQ9_Total'] = df[phq9].sum(axis = 1)"
      ]
    },
    {
      "cell_type": "code",
      "source": [
        "conditions = [(df['PHQ9_Total']>=0) & (df['PHQ9_Total']<=4),\n",
        "              (df['PHQ9_Total']>=5) & (df['PHQ9_Total']<=9),\n",
        "              (df['PHQ9_Total']>=10) & (df['PHQ9_Total']<=14),\n",
        "              (df['PHQ9_Total']>=15) & (df['PHQ9_Total']<=19),\n",
        "              (df['PHQ9_Total']>=20) & (df['PHQ9_Total']<=27)]\n",
        "choices = ['None','Mild','Moderate','Moderately Severe','Severe']\n",
        "df['Depression_lvl'] = np.select(conditions, choices, default = 'Cannot Identify')"
      ],
      "metadata": {
        "id": "4C_nTZuWtNVx"
      },
      "execution_count": 685,
      "outputs": []
    },
    {
      "cell_type": "code",
      "source": [
        "conditions = [(df['Depression_lvl']==\"None\"),\n",
        "              (df['Depression_lvl']==\"Mild\"),\n",
        "              (df['Depression_lvl']==\"Moderate\"),\n",
        "              (df['Depression_lvl']==\"Moderately Severe\"),\n",
        "              (df['Depression_lvl']==\"Severe\")\n",
        "              ]\n",
        "choices = ['0','1','2','3','4']\n",
        "df['Depression_lvl_2'] = np.select(conditions, choices, default = 'Cannot Identify')"
      ],
      "metadata": {
        "id": "IsOTnFj6u4c1"
      },
      "execution_count": 686,
      "outputs": []
    },
    {
      "cell_type": "code",
      "source": [
        "df.head()"
      ],
      "metadata": {
        "colab": {
          "base_uri": "https://localhost:8080/",
          "height": 305
        },
        "id": "tJABvTrruy2C",
        "outputId": "be9a7129-52d5-45ab-d951-53fe9d8d41cb"
      },
      "execution_count": 687,
      "outputs": [
        {
          "output_type": "execute_result",
          "data": {
            "text/plain": [
              "   DataCollectionPlace  Age  Gender  Education  Profession  Religion  \\\n",
              "0                    1    4       1          1           1         1   \n",
              "1                    1    4       1          2           2         1   \n",
              "2                    1    3       1          1           3         1   \n",
              "3                    1    2       1          1           4         1   \n",
              "4                    2    3       1          2           5         1   \n",
              "\n",
              "   MaritalStatus  TotalChildCount  MonthlyEarning  CancerType  CancerStage  \\\n",
              "0              1                4               1           1            3   \n",
              "1              1                1               1           2            1   \n",
              "2              3                5               1           4            3   \n",
              "3              1                0               1           4            3   \n",
              "4              1                3               1           5            3   \n",
              "\n",
              "   Operation  FamilyMemberCancer  FamMemSupport  HospitalFeesPaymentIssue  \\\n",
              "0          0                   1              0                         3   \n",
              "1          1                   1              0                         4   \n",
              "2          1                   1              0                         4   \n",
              "3          0                   0              0                         5   \n",
              "4          0                   1              0                         5   \n",
              "\n",
              "   Loan  InternetUseForCancer  PHQ1  PHQ2  PHQ3  PHQ4  PHQ5  PHQ6  PHQ7  PHQ8  \\\n",
              "0     0                     1     0     3     2     2     2     3     3     3   \n",
              "1     0                     1     1     2     0     2     3     2     2     2   \n",
              "2     1                     1     2     1     1     2     0     0     0     0   \n",
              "3     0                     1     2     2     2     0     1     3     3     1   \n",
              "4     0                     1     3     3     3     3     2     1     3     3   \n",
              "\n",
              "   PHQ9  PHQ10  CancerInMyBody  PHQ9_Total     Depression_lvl Depression_lvl_2  \n",
              "0     1      2               0          19  Moderately Severe                3  \n",
              "1     0      1               1          14           Moderate                2  \n",
              "2     0      1               1           6               Mild                1  \n",
              "3     3      1               1          17  Moderately Severe                3  \n",
              "4     0      2               1          21             Severe                4  "
            ],
            "text/html": [
              "\n",
              "  <div id=\"df-304fa4ef-3152-4bb0-88bd-5a9328d8e57a\">\n",
              "    <div class=\"colab-df-container\">\n",
              "      <div>\n",
              "<style scoped>\n",
              "    .dataframe tbody tr th:only-of-type {\n",
              "        vertical-align: middle;\n",
              "    }\n",
              "\n",
              "    .dataframe tbody tr th {\n",
              "        vertical-align: top;\n",
              "    }\n",
              "\n",
              "    .dataframe thead th {\n",
              "        text-align: right;\n",
              "    }\n",
              "</style>\n",
              "<table border=\"1\" class=\"dataframe\">\n",
              "  <thead>\n",
              "    <tr style=\"text-align: right;\">\n",
              "      <th></th>\n",
              "      <th>DataCollectionPlace</th>\n",
              "      <th>Age</th>\n",
              "      <th>Gender</th>\n",
              "      <th>Education</th>\n",
              "      <th>Profession</th>\n",
              "      <th>Religion</th>\n",
              "      <th>MaritalStatus</th>\n",
              "      <th>TotalChildCount</th>\n",
              "      <th>MonthlyEarning</th>\n",
              "      <th>CancerType</th>\n",
              "      <th>CancerStage</th>\n",
              "      <th>Operation</th>\n",
              "      <th>FamilyMemberCancer</th>\n",
              "      <th>FamMemSupport</th>\n",
              "      <th>HospitalFeesPaymentIssue</th>\n",
              "      <th>Loan</th>\n",
              "      <th>InternetUseForCancer</th>\n",
              "      <th>PHQ1</th>\n",
              "      <th>PHQ2</th>\n",
              "      <th>PHQ3</th>\n",
              "      <th>PHQ4</th>\n",
              "      <th>PHQ5</th>\n",
              "      <th>PHQ6</th>\n",
              "      <th>PHQ7</th>\n",
              "      <th>PHQ8</th>\n",
              "      <th>PHQ9</th>\n",
              "      <th>PHQ10</th>\n",
              "      <th>CancerInMyBody</th>\n",
              "      <th>PHQ9_Total</th>\n",
              "      <th>Depression_lvl</th>\n",
              "      <th>Depression_lvl_2</th>\n",
              "    </tr>\n",
              "  </thead>\n",
              "  <tbody>\n",
              "    <tr>\n",
              "      <th>0</th>\n",
              "      <td>1</td>\n",
              "      <td>4</td>\n",
              "      <td>1</td>\n",
              "      <td>1</td>\n",
              "      <td>1</td>\n",
              "      <td>1</td>\n",
              "      <td>1</td>\n",
              "      <td>4</td>\n",
              "      <td>1</td>\n",
              "      <td>1</td>\n",
              "      <td>3</td>\n",
              "      <td>0</td>\n",
              "      <td>1</td>\n",
              "      <td>0</td>\n",
              "      <td>3</td>\n",
              "      <td>0</td>\n",
              "      <td>1</td>\n",
              "      <td>0</td>\n",
              "      <td>3</td>\n",
              "      <td>2</td>\n",
              "      <td>2</td>\n",
              "      <td>2</td>\n",
              "      <td>3</td>\n",
              "      <td>3</td>\n",
              "      <td>3</td>\n",
              "      <td>1</td>\n",
              "      <td>2</td>\n",
              "      <td>0</td>\n",
              "      <td>19</td>\n",
              "      <td>Moderately Severe</td>\n",
              "      <td>3</td>\n",
              "    </tr>\n",
              "    <tr>\n",
              "      <th>1</th>\n",
              "      <td>1</td>\n",
              "      <td>4</td>\n",
              "      <td>1</td>\n",
              "      <td>2</td>\n",
              "      <td>2</td>\n",
              "      <td>1</td>\n",
              "      <td>1</td>\n",
              "      <td>1</td>\n",
              "      <td>1</td>\n",
              "      <td>2</td>\n",
              "      <td>1</td>\n",
              "      <td>1</td>\n",
              "      <td>1</td>\n",
              "      <td>0</td>\n",
              "      <td>4</td>\n",
              "      <td>0</td>\n",
              "      <td>1</td>\n",
              "      <td>1</td>\n",
              "      <td>2</td>\n",
              "      <td>0</td>\n",
              "      <td>2</td>\n",
              "      <td>3</td>\n",
              "      <td>2</td>\n",
              "      <td>2</td>\n",
              "      <td>2</td>\n",
              "      <td>0</td>\n",
              "      <td>1</td>\n",
              "      <td>1</td>\n",
              "      <td>14</td>\n",
              "      <td>Moderate</td>\n",
              "      <td>2</td>\n",
              "    </tr>\n",
              "    <tr>\n",
              "      <th>2</th>\n",
              "      <td>1</td>\n",
              "      <td>3</td>\n",
              "      <td>1</td>\n",
              "      <td>1</td>\n",
              "      <td>3</td>\n",
              "      <td>1</td>\n",
              "      <td>3</td>\n",
              "      <td>5</td>\n",
              "      <td>1</td>\n",
              "      <td>4</td>\n",
              "      <td>3</td>\n",
              "      <td>1</td>\n",
              "      <td>1</td>\n",
              "      <td>0</td>\n",
              "      <td>4</td>\n",
              "      <td>1</td>\n",
              "      <td>1</td>\n",
              "      <td>2</td>\n",
              "      <td>1</td>\n",
              "      <td>1</td>\n",
              "      <td>2</td>\n",
              "      <td>0</td>\n",
              "      <td>0</td>\n",
              "      <td>0</td>\n",
              "      <td>0</td>\n",
              "      <td>0</td>\n",
              "      <td>1</td>\n",
              "      <td>1</td>\n",
              "      <td>6</td>\n",
              "      <td>Mild</td>\n",
              "      <td>1</td>\n",
              "    </tr>\n",
              "    <tr>\n",
              "      <th>3</th>\n",
              "      <td>1</td>\n",
              "      <td>2</td>\n",
              "      <td>1</td>\n",
              "      <td>1</td>\n",
              "      <td>4</td>\n",
              "      <td>1</td>\n",
              "      <td>1</td>\n",
              "      <td>0</td>\n",
              "      <td>1</td>\n",
              "      <td>4</td>\n",
              "      <td>3</td>\n",
              "      <td>0</td>\n",
              "      <td>0</td>\n",
              "      <td>0</td>\n",
              "      <td>5</td>\n",
              "      <td>0</td>\n",
              "      <td>1</td>\n",
              "      <td>2</td>\n",
              "      <td>2</td>\n",
              "      <td>2</td>\n",
              "      <td>0</td>\n",
              "      <td>1</td>\n",
              "      <td>3</td>\n",
              "      <td>3</td>\n",
              "      <td>1</td>\n",
              "      <td>3</td>\n",
              "      <td>1</td>\n",
              "      <td>1</td>\n",
              "      <td>17</td>\n",
              "      <td>Moderately Severe</td>\n",
              "      <td>3</td>\n",
              "    </tr>\n",
              "    <tr>\n",
              "      <th>4</th>\n",
              "      <td>2</td>\n",
              "      <td>3</td>\n",
              "      <td>1</td>\n",
              "      <td>2</td>\n",
              "      <td>5</td>\n",
              "      <td>1</td>\n",
              "      <td>1</td>\n",
              "      <td>3</td>\n",
              "      <td>1</td>\n",
              "      <td>5</td>\n",
              "      <td>3</td>\n",
              "      <td>0</td>\n",
              "      <td>1</td>\n",
              "      <td>0</td>\n",
              "      <td>5</td>\n",
              "      <td>0</td>\n",
              "      <td>1</td>\n",
              "      <td>3</td>\n",
              "      <td>3</td>\n",
              "      <td>3</td>\n",
              "      <td>3</td>\n",
              "      <td>2</td>\n",
              "      <td>1</td>\n",
              "      <td>3</td>\n",
              "      <td>3</td>\n",
              "      <td>0</td>\n",
              "      <td>2</td>\n",
              "      <td>1</td>\n",
              "      <td>21</td>\n",
              "      <td>Severe</td>\n",
              "      <td>4</td>\n",
              "    </tr>\n",
              "  </tbody>\n",
              "</table>\n",
              "</div>\n",
              "      <button class=\"colab-df-convert\" onclick=\"convertToInteractive('df-304fa4ef-3152-4bb0-88bd-5a9328d8e57a')\"\n",
              "              title=\"Convert this dataframe to an interactive table.\"\n",
              "              style=\"display:none;\">\n",
              "        \n",
              "  <svg xmlns=\"http://www.w3.org/2000/svg\" height=\"24px\"viewBox=\"0 0 24 24\"\n",
              "       width=\"24px\">\n",
              "    <path d=\"M0 0h24v24H0V0z\" fill=\"none\"/>\n",
              "    <path d=\"M18.56 5.44l.94 2.06.94-2.06 2.06-.94-2.06-.94-.94-2.06-.94 2.06-2.06.94zm-11 1L8.5 8.5l.94-2.06 2.06-.94-2.06-.94L8.5 2.5l-.94 2.06-2.06.94zm10 10l.94 2.06.94-2.06 2.06-.94-2.06-.94-.94-2.06-.94 2.06-2.06.94z\"/><path d=\"M17.41 7.96l-1.37-1.37c-.4-.4-.92-.59-1.43-.59-.52 0-1.04.2-1.43.59L10.3 9.45l-7.72 7.72c-.78.78-.78 2.05 0 2.83L4 21.41c.39.39.9.59 1.41.59.51 0 1.02-.2 1.41-.59l7.78-7.78 2.81-2.81c.8-.78.8-2.07 0-2.86zM5.41 20L4 18.59l7.72-7.72 1.47 1.35L5.41 20z\"/>\n",
              "  </svg>\n",
              "      </button>\n",
              "      \n",
              "  <style>\n",
              "    .colab-df-container {\n",
              "      display:flex;\n",
              "      flex-wrap:wrap;\n",
              "      gap: 12px;\n",
              "    }\n",
              "\n",
              "    .colab-df-convert {\n",
              "      background-color: #E8F0FE;\n",
              "      border: none;\n",
              "      border-radius: 50%;\n",
              "      cursor: pointer;\n",
              "      display: none;\n",
              "      fill: #1967D2;\n",
              "      height: 32px;\n",
              "      padding: 0 0 0 0;\n",
              "      width: 32px;\n",
              "    }\n",
              "\n",
              "    .colab-df-convert:hover {\n",
              "      background-color: #E2EBFA;\n",
              "      box-shadow: 0px 1px 2px rgba(60, 64, 67, 0.3), 0px 1px 3px 1px rgba(60, 64, 67, 0.15);\n",
              "      fill: #174EA6;\n",
              "    }\n",
              "\n",
              "    [theme=dark] .colab-df-convert {\n",
              "      background-color: #3B4455;\n",
              "      fill: #D2E3FC;\n",
              "    }\n",
              "\n",
              "    [theme=dark] .colab-df-convert:hover {\n",
              "      background-color: #434B5C;\n",
              "      box-shadow: 0px 1px 3px 1px rgba(0, 0, 0, 0.15);\n",
              "      filter: drop-shadow(0px 1px 2px rgba(0, 0, 0, 0.3));\n",
              "      fill: #FFFFFF;\n",
              "    }\n",
              "  </style>\n",
              "\n",
              "      <script>\n",
              "        const buttonEl =\n",
              "          document.querySelector('#df-304fa4ef-3152-4bb0-88bd-5a9328d8e57a button.colab-df-convert');\n",
              "        buttonEl.style.display =\n",
              "          google.colab.kernel.accessAllowed ? 'block' : 'none';\n",
              "\n",
              "        async function convertToInteractive(key) {\n",
              "          const element = document.querySelector('#df-304fa4ef-3152-4bb0-88bd-5a9328d8e57a');\n",
              "          const dataTable =\n",
              "            await google.colab.kernel.invokeFunction('convertToInteractive',\n",
              "                                                     [key], {});\n",
              "          if (!dataTable) return;\n",
              "\n",
              "          const docLinkHtml = 'Like what you see? Visit the ' +\n",
              "            '<a target=\"_blank\" href=https://colab.research.google.com/notebooks/data_table.ipynb>data table notebook</a>'\n",
              "            + ' to learn more about interactive tables.';\n",
              "          element.innerHTML = '';\n",
              "          dataTable['output_type'] = 'display_data';\n",
              "          await google.colab.output.renderOutput(dataTable, element);\n",
              "          const docLink = document.createElement('div');\n",
              "          docLink.innerHTML = docLinkHtml;\n",
              "          element.appendChild(docLink);\n",
              "        }\n",
              "      </script>\n",
              "    </div>\n",
              "  </div>\n",
              "  "
            ]
          },
          "metadata": {},
          "execution_count": 687
        }
      ]
    },
    {
      "cell_type": "code",
      "source": [
        "df.to_csv('labelled_data.csv', index=False)"
      ],
      "metadata": {
        "id": "awM3wU84wdRo"
      },
      "execution_count": 688,
      "outputs": []
    },
    {
      "cell_type": "markdown",
      "source": [],
      "metadata": {
        "id": "WLWkePAfw80B"
      }
    },
    {
      "cell_type": "code",
      "source": [
        "df2 = pd.read_csv('labelled_data.csv')\n",
        "df2.isnull().sum()"
      ],
      "metadata": {
        "colab": {
          "base_uri": "https://localhost:8080/"
        },
        "id": "rfM1NJ9ryIik",
        "outputId": "4fc506f1-5c81-402f-bdae-43ec7667809b"
      },
      "execution_count": 692,
      "outputs": [
        {
          "output_type": "execute_result",
          "data": {
            "text/plain": [
              "DataCollectionPlace         0\n",
              "Age                         0\n",
              "Gender                      0\n",
              "Education                   0\n",
              "Profession                  0\n",
              "Religion                    0\n",
              "MaritalStatus               0\n",
              "TotalChildCount             0\n",
              "MonthlyEarning              0\n",
              "CancerType                  0\n",
              "CancerStage                 0\n",
              "Operation                   0\n",
              "FamilyMemberCancer          0\n",
              "FamMemSupport               0\n",
              "HospitalFeesPaymentIssue    0\n",
              "Loan                        0\n",
              "InternetUseForCancer        0\n",
              "PHQ1                        0\n",
              "PHQ2                        0\n",
              "PHQ3                        0\n",
              "PHQ4                        0\n",
              "PHQ5                        0\n",
              "PHQ6                        0\n",
              "PHQ7                        0\n",
              "PHQ8                        0\n",
              "PHQ9                        0\n",
              "PHQ10                       0\n",
              "CancerInMyBody              0\n",
              "PHQ9_Total                  0\n",
              "Depression_lvl              0\n",
              "Depression_lvl_2            0\n",
              "dtype: int64"
            ]
          },
          "metadata": {},
          "execution_count": 692
        }
      ]
    }
  ],
  "metadata": {
    "colab": {
      "collapsed_sections": [],
      "provenance": [],
      "include_colab_link": true
    },
    "kernelspec": {
      "display_name": "Python 3",
      "name": "python3"
    },
    "language_info": {
      "name": "python"
    }
  },
  "nbformat": 4,
  "nbformat_minor": 0
}