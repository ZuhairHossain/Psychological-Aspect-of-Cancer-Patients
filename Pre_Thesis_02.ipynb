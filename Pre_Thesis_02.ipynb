{
  "nbformat": 4,
  "nbformat_minor": 0,
  "metadata": {
    "colab": {
      "provenance": [],
      "collapsed_sections": [],
      "authorship_tag": "ABX9TyMUj7K16orIz/P3VrFlBbjx",
      "include_colab_link": true
    },
    "kernelspec": {
      "name": "python3",
      "display_name": "Python 3"
    },
    "language_info": {
      "name": "python"
    }
  },
  "cells": [
    {
      "cell_type": "markdown",
      "metadata": {
        "id": "view-in-github",
        "colab_type": "text"
      },
      "source": [
        "<a href=\"https://colab.research.google.com/github/ZuhairHossain/Psychological-Aspect-of-Cancer-Patients/blob/master/Pre_Thesis_02.ipynb\" target=\"_parent\"><img src=\"https://colab.research.google.com/assets/colab-badge.svg\" alt=\"Open In Colab\"/></a>"
      ]
    },
    {
      "cell_type": "code",
      "source": [
        "# data labelling done till MaritalStatus"
      ],
      "metadata": {
        "id": "Pl8jNEk4I7TB"
      },
      "execution_count": 110,
      "outputs": []
    },
    {
      "cell_type": "code",
      "execution_count": 90,
      "metadata": {
        "id": "coGXI7Zye0RX"
      },
      "outputs": [],
      "source": [
        "import pandas as pd\n",
        "import io\n",
        "import numpy as np\n",
        "import sklearn"
      ]
    },
    {
      "cell_type": "code",
      "source": [
        "df = pd.read_csv(\"https://raw.githubusercontent.com/ZuhairHossain/Psychological-Aspect-of-Cancer-Patients/master/cancer_manual_data.csv\")\n",
        "\n",
        "pd.set_option('display.max_columns', None)\n",
        "df.head()"
      ],
      "metadata": {
        "colab": {
          "base_uri": "https://localhost:8080/",
          "height": 357
        },
        "id": "72aLscuPyMAi",
        "outputId": "4eab5522-9e43-450e-c7d6-3ae3574e7ba8"
      },
      "execution_count": 91,
      "outputs": [
        {
          "output_type": "execute_result",
          "data": {
            "text/plain": [
              "         PatientName       DataCollectionPlace    Age Gender CurrentAddress  \\\n",
              "0        Nurul Islam  Hospitals Doctor Chamber    65+   Male    Kishoregonj   \n",
              "1         Md. Rafian  Hospitals Doctor Chamber    65+   Male     Jhalokathi   \n",
              "2          Rojob Ali  Hospitals Doctor Chamber  45-64   Male        Tangail   \n",
              "3     Ismail Hossain  Hospitals Doctor Chamber  25-44   Male            NaN   \n",
              "4  Md. Golam Mostafa             Hospital Ward  45-64   Male        Cumilla   \n",
              "\n",
              "  Education   Profession Religion MaritalStatus  TotalChildCount  GirlChild  \\\n",
              "0      <SSC       Farmer    Islam       Married              4.0        1.0   \n",
              "1       SSC  Shop Keeper    Islam       Married              1.0        1.0   \n",
              "2      <SSC  House Works    Islam       Widowed              5.0        1.0   \n",
              "3      <SSC   CNG Driver    Islam       Married              NaN        NaN   \n",
              "4       SSC      Retired    Islam       Married              3.0        1.0   \n",
              "\n",
              "   BoyChild MonthlyEarning CancerType  CancerStage AdmittedHospital Operation  \\\n",
              "0       3.0           <10K       Anal          3.0              Yes       Yes   \n",
              "1       0.0           <10K      Blood          1.0              Yes        No   \n",
              "2       4.0           <10K     Throat          3.0              Yes        No   \n",
              "3       NaN           <10K     Throat          NaN              Yes       Yes   \n",
              "4       2.0           <10K      Lungs          3.0              Yes       Yes   \n",
              "\n",
              "  FamilyMemberCancer FamMemSupport HospitalFeesPaymentIssue Loan  \\\n",
              "0                 No           Yes                Sometimes  Yes   \n",
              "1                 No           Yes         Almost Regularly  Yes   \n",
              "2                 No           Yes         Almost Regularly   No   \n",
              "3                Yes           Yes                Regularly  Yes   \n",
              "4                 No           Yes                Regularly  Yes   \n",
              "\n",
              "  ElectronicDeviceforContact ElectronicDeviceType ContactDeviceWithDoctor  \\\n",
              "0                         No                  NaN              Not at all   \n",
              "1                        Yes           Smartphone               Sometimes   \n",
              "2                        Yes        Button Mobile              Not at all   \n",
              "3                        Yes        Button Mobile              Not at all   \n",
              "4                        Yes        Button Mobile               Sometimes   \n",
              "\n",
              "  InternetAccess InternetUseExperience InternetUseForCancer  \\\n",
              "0             No         No Experience           Not at all   \n",
              "1            Yes                Senior           Not at all   \n",
              "2             No         No Experience           Not at all   \n",
              "3             No         No Experience           Not at all   \n",
              "4             No         No Experience           Not at all   \n",
              "\n",
              "     DataCollectedBy                     PHQ1                     PHQ2  \\\n",
              "0  Zuhair + Mrittika               Not at all  More than half the days   \n",
              "1              Miami            Several\\ndays        Nearly\\nevery day   \n",
              "2           Mrittika        Nearly\\nevery day            Several\\ndays   \n",
              "3              Miami        Nearly\\nevery day        Nearly\\nevery day   \n",
              "4             Zuhair  More than half the days  More than half the days   \n",
              "\n",
              "                      PHQ3                     PHQ4                     PHQ5  \\\n",
              "0        Nearly\\nevery day        Nearly\\nevery day        Nearly\\nevery day   \n",
              "1               Not at all        Nearly\\nevery day  More than half the days   \n",
              "2            Several\\ndays        Nearly\\nevery day               Not at all   \n",
              "3        Nearly\\nevery day               Not at all            Several\\ndays   \n",
              "4  More than half the days  More than half the days        Nearly\\nevery day   \n",
              "\n",
              "                      PHQ6                     PHQ7                     PHQ8  \\\n",
              "0  More than half the days  More than half the days  More than half the days   \n",
              "1        Nearly\\nevery day        Nearly\\nevery day        Nearly\\nevery day   \n",
              "2               Not at all               Not at all               Not at all   \n",
              "3  More than half the days  More than half the days            Several\\ndays   \n",
              "4            Several\\ndays  More than half the days  More than half the days   \n",
              "\n",
              "                      PHQ9        PHQ10 PatientConfused OurPurpose  \\\n",
              "0            Several\\ndays        Tough              No    Neutral   \n",
              "1               Not at all  Not Tougher              No   Friendly   \n",
              "2               Not at all  Not Tougher              No   Friendly   \n",
              "3  More than half the days  Not Tougher              No   Friendly   \n",
              "4               Not at all        Tough              No    Neutral   \n",
              "\n",
              "     PatientType CancerInMyBody  \n",
              "0    Open Minded            Yes  \n",
              "1    Open Minded             No  \n",
              "2    Open Minded             No  \n",
              "3    Open Minded             No  \n",
              "4  narrow Minded             No  "
            ],
            "text/html": [
              "\n",
              "  <div id=\"df-0ee1fed3-eff3-4c6e-8f7b-b7d2c329b162\">\n",
              "    <div class=\"colab-df-container\">\n",
              "      <div>\n",
              "<style scoped>\n",
              "    .dataframe tbody tr th:only-of-type {\n",
              "        vertical-align: middle;\n",
              "    }\n",
              "\n",
              "    .dataframe tbody tr th {\n",
              "        vertical-align: top;\n",
              "    }\n",
              "\n",
              "    .dataframe thead th {\n",
              "        text-align: right;\n",
              "    }\n",
              "</style>\n",
              "<table border=\"1\" class=\"dataframe\">\n",
              "  <thead>\n",
              "    <tr style=\"text-align: right;\">\n",
              "      <th></th>\n",
              "      <th>PatientName</th>\n",
              "      <th>DataCollectionPlace</th>\n",
              "      <th>Age</th>\n",
              "      <th>Gender</th>\n",
              "      <th>CurrentAddress</th>\n",
              "      <th>Education</th>\n",
              "      <th>Profession</th>\n",
              "      <th>Religion</th>\n",
              "      <th>MaritalStatus</th>\n",
              "      <th>TotalChildCount</th>\n",
              "      <th>GirlChild</th>\n",
              "      <th>BoyChild</th>\n",
              "      <th>MonthlyEarning</th>\n",
              "      <th>CancerType</th>\n",
              "      <th>CancerStage</th>\n",
              "      <th>AdmittedHospital</th>\n",
              "      <th>Operation</th>\n",
              "      <th>FamilyMemberCancer</th>\n",
              "      <th>FamMemSupport</th>\n",
              "      <th>HospitalFeesPaymentIssue</th>\n",
              "      <th>Loan</th>\n",
              "      <th>ElectronicDeviceforContact</th>\n",
              "      <th>ElectronicDeviceType</th>\n",
              "      <th>ContactDeviceWithDoctor</th>\n",
              "      <th>InternetAccess</th>\n",
              "      <th>InternetUseExperience</th>\n",
              "      <th>InternetUseForCancer</th>\n",
              "      <th>DataCollectedBy</th>\n",
              "      <th>PHQ1</th>\n",
              "      <th>PHQ2</th>\n",
              "      <th>PHQ3</th>\n",
              "      <th>PHQ4</th>\n",
              "      <th>PHQ5</th>\n",
              "      <th>PHQ6</th>\n",
              "      <th>PHQ7</th>\n",
              "      <th>PHQ8</th>\n",
              "      <th>PHQ9</th>\n",
              "      <th>PHQ10</th>\n",
              "      <th>PatientConfused</th>\n",
              "      <th>OurPurpose</th>\n",
              "      <th>PatientType</th>\n",
              "      <th>CancerInMyBody</th>\n",
              "    </tr>\n",
              "  </thead>\n",
              "  <tbody>\n",
              "    <tr>\n",
              "      <th>0</th>\n",
              "      <td>Nurul Islam</td>\n",
              "      <td>Hospitals Doctor Chamber</td>\n",
              "      <td>65+</td>\n",
              "      <td>Male</td>\n",
              "      <td>Kishoregonj</td>\n",
              "      <td>&lt;SSC</td>\n",
              "      <td>Farmer</td>\n",
              "      <td>Islam</td>\n",
              "      <td>Married</td>\n",
              "      <td>4.0</td>\n",
              "      <td>1.0</td>\n",
              "      <td>3.0</td>\n",
              "      <td>&lt;10K</td>\n",
              "      <td>Anal</td>\n",
              "      <td>3.0</td>\n",
              "      <td>Yes</td>\n",
              "      <td>Yes</td>\n",
              "      <td>No</td>\n",
              "      <td>Yes</td>\n",
              "      <td>Sometimes</td>\n",
              "      <td>Yes</td>\n",
              "      <td>No</td>\n",
              "      <td>NaN</td>\n",
              "      <td>Not at all</td>\n",
              "      <td>No</td>\n",
              "      <td>No Experience</td>\n",
              "      <td>Not at all</td>\n",
              "      <td>Zuhair + Mrittika</td>\n",
              "      <td>Not at all</td>\n",
              "      <td>More than half the days</td>\n",
              "      <td>Nearly\\nevery day</td>\n",
              "      <td>Nearly\\nevery day</td>\n",
              "      <td>Nearly\\nevery day</td>\n",
              "      <td>More than half the days</td>\n",
              "      <td>More than half the days</td>\n",
              "      <td>More than half the days</td>\n",
              "      <td>Several\\ndays</td>\n",
              "      <td>Tough</td>\n",
              "      <td>No</td>\n",
              "      <td>Neutral</td>\n",
              "      <td>Open Minded</td>\n",
              "      <td>Yes</td>\n",
              "    </tr>\n",
              "    <tr>\n",
              "      <th>1</th>\n",
              "      <td>Md. Rafian</td>\n",
              "      <td>Hospitals Doctor Chamber</td>\n",
              "      <td>65+</td>\n",
              "      <td>Male</td>\n",
              "      <td>Jhalokathi</td>\n",
              "      <td>SSC</td>\n",
              "      <td>Shop Keeper</td>\n",
              "      <td>Islam</td>\n",
              "      <td>Married</td>\n",
              "      <td>1.0</td>\n",
              "      <td>1.0</td>\n",
              "      <td>0.0</td>\n",
              "      <td>&lt;10K</td>\n",
              "      <td>Blood</td>\n",
              "      <td>1.0</td>\n",
              "      <td>Yes</td>\n",
              "      <td>No</td>\n",
              "      <td>No</td>\n",
              "      <td>Yes</td>\n",
              "      <td>Almost Regularly</td>\n",
              "      <td>Yes</td>\n",
              "      <td>Yes</td>\n",
              "      <td>Smartphone</td>\n",
              "      <td>Sometimes</td>\n",
              "      <td>Yes</td>\n",
              "      <td>Senior</td>\n",
              "      <td>Not at all</td>\n",
              "      <td>Miami</td>\n",
              "      <td>Several\\ndays</td>\n",
              "      <td>Nearly\\nevery day</td>\n",
              "      <td>Not at all</td>\n",
              "      <td>Nearly\\nevery day</td>\n",
              "      <td>More than half the days</td>\n",
              "      <td>Nearly\\nevery day</td>\n",
              "      <td>Nearly\\nevery day</td>\n",
              "      <td>Nearly\\nevery day</td>\n",
              "      <td>Not at all</td>\n",
              "      <td>Not Tougher</td>\n",
              "      <td>No</td>\n",
              "      <td>Friendly</td>\n",
              "      <td>Open Minded</td>\n",
              "      <td>No</td>\n",
              "    </tr>\n",
              "    <tr>\n",
              "      <th>2</th>\n",
              "      <td>Rojob Ali</td>\n",
              "      <td>Hospitals Doctor Chamber</td>\n",
              "      <td>45-64</td>\n",
              "      <td>Male</td>\n",
              "      <td>Tangail</td>\n",
              "      <td>&lt;SSC</td>\n",
              "      <td>House Works</td>\n",
              "      <td>Islam</td>\n",
              "      <td>Widowed</td>\n",
              "      <td>5.0</td>\n",
              "      <td>1.0</td>\n",
              "      <td>4.0</td>\n",
              "      <td>&lt;10K</td>\n",
              "      <td>Throat</td>\n",
              "      <td>3.0</td>\n",
              "      <td>Yes</td>\n",
              "      <td>No</td>\n",
              "      <td>No</td>\n",
              "      <td>Yes</td>\n",
              "      <td>Almost Regularly</td>\n",
              "      <td>No</td>\n",
              "      <td>Yes</td>\n",
              "      <td>Button Mobile</td>\n",
              "      <td>Not at all</td>\n",
              "      <td>No</td>\n",
              "      <td>No Experience</td>\n",
              "      <td>Not at all</td>\n",
              "      <td>Mrittika</td>\n",
              "      <td>Nearly\\nevery day</td>\n",
              "      <td>Several\\ndays</td>\n",
              "      <td>Several\\ndays</td>\n",
              "      <td>Nearly\\nevery day</td>\n",
              "      <td>Not at all</td>\n",
              "      <td>Not at all</td>\n",
              "      <td>Not at all</td>\n",
              "      <td>Not at all</td>\n",
              "      <td>Not at all</td>\n",
              "      <td>Not Tougher</td>\n",
              "      <td>No</td>\n",
              "      <td>Friendly</td>\n",
              "      <td>Open Minded</td>\n",
              "      <td>No</td>\n",
              "    </tr>\n",
              "    <tr>\n",
              "      <th>3</th>\n",
              "      <td>Ismail Hossain</td>\n",
              "      <td>Hospitals Doctor Chamber</td>\n",
              "      <td>25-44</td>\n",
              "      <td>Male</td>\n",
              "      <td>NaN</td>\n",
              "      <td>&lt;SSC</td>\n",
              "      <td>CNG Driver</td>\n",
              "      <td>Islam</td>\n",
              "      <td>Married</td>\n",
              "      <td>NaN</td>\n",
              "      <td>NaN</td>\n",
              "      <td>NaN</td>\n",
              "      <td>&lt;10K</td>\n",
              "      <td>Throat</td>\n",
              "      <td>NaN</td>\n",
              "      <td>Yes</td>\n",
              "      <td>Yes</td>\n",
              "      <td>Yes</td>\n",
              "      <td>Yes</td>\n",
              "      <td>Regularly</td>\n",
              "      <td>Yes</td>\n",
              "      <td>Yes</td>\n",
              "      <td>Button Mobile</td>\n",
              "      <td>Not at all</td>\n",
              "      <td>No</td>\n",
              "      <td>No Experience</td>\n",
              "      <td>Not at all</td>\n",
              "      <td>Miami</td>\n",
              "      <td>Nearly\\nevery day</td>\n",
              "      <td>Nearly\\nevery day</td>\n",
              "      <td>Nearly\\nevery day</td>\n",
              "      <td>Not at all</td>\n",
              "      <td>Several\\ndays</td>\n",
              "      <td>More than half the days</td>\n",
              "      <td>More than half the days</td>\n",
              "      <td>Several\\ndays</td>\n",
              "      <td>More than half the days</td>\n",
              "      <td>Not Tougher</td>\n",
              "      <td>No</td>\n",
              "      <td>Friendly</td>\n",
              "      <td>Open Minded</td>\n",
              "      <td>No</td>\n",
              "    </tr>\n",
              "    <tr>\n",
              "      <th>4</th>\n",
              "      <td>Md. Golam Mostafa</td>\n",
              "      <td>Hospital Ward</td>\n",
              "      <td>45-64</td>\n",
              "      <td>Male</td>\n",
              "      <td>Cumilla</td>\n",
              "      <td>SSC</td>\n",
              "      <td>Retired</td>\n",
              "      <td>Islam</td>\n",
              "      <td>Married</td>\n",
              "      <td>3.0</td>\n",
              "      <td>1.0</td>\n",
              "      <td>2.0</td>\n",
              "      <td>&lt;10K</td>\n",
              "      <td>Lungs</td>\n",
              "      <td>3.0</td>\n",
              "      <td>Yes</td>\n",
              "      <td>Yes</td>\n",
              "      <td>No</td>\n",
              "      <td>Yes</td>\n",
              "      <td>Regularly</td>\n",
              "      <td>Yes</td>\n",
              "      <td>Yes</td>\n",
              "      <td>Button Mobile</td>\n",
              "      <td>Sometimes</td>\n",
              "      <td>No</td>\n",
              "      <td>No Experience</td>\n",
              "      <td>Not at all</td>\n",
              "      <td>Zuhair</td>\n",
              "      <td>More than half the days</td>\n",
              "      <td>More than half the days</td>\n",
              "      <td>More than half the days</td>\n",
              "      <td>More than half the days</td>\n",
              "      <td>Nearly\\nevery day</td>\n",
              "      <td>Several\\ndays</td>\n",
              "      <td>More than half the days</td>\n",
              "      <td>More than half the days</td>\n",
              "      <td>Not at all</td>\n",
              "      <td>Tough</td>\n",
              "      <td>No</td>\n",
              "      <td>Neutral</td>\n",
              "      <td>narrow Minded</td>\n",
              "      <td>No</td>\n",
              "    </tr>\n",
              "  </tbody>\n",
              "</table>\n",
              "</div>\n",
              "      <button class=\"colab-df-convert\" onclick=\"convertToInteractive('df-0ee1fed3-eff3-4c6e-8f7b-b7d2c329b162')\"\n",
              "              title=\"Convert this dataframe to an interactive table.\"\n",
              "              style=\"display:none;\">\n",
              "        \n",
              "  <svg xmlns=\"http://www.w3.org/2000/svg\" height=\"24px\"viewBox=\"0 0 24 24\"\n",
              "       width=\"24px\">\n",
              "    <path d=\"M0 0h24v24H0V0z\" fill=\"none\"/>\n",
              "    <path d=\"M18.56 5.44l.94 2.06.94-2.06 2.06-.94-2.06-.94-.94-2.06-.94 2.06-2.06.94zm-11 1L8.5 8.5l.94-2.06 2.06-.94-2.06-.94L8.5 2.5l-.94 2.06-2.06.94zm10 10l.94 2.06.94-2.06 2.06-.94-2.06-.94-.94-2.06-.94 2.06-2.06.94z\"/><path d=\"M17.41 7.96l-1.37-1.37c-.4-.4-.92-.59-1.43-.59-.52 0-1.04.2-1.43.59L10.3 9.45l-7.72 7.72c-.78.78-.78 2.05 0 2.83L4 21.41c.39.39.9.59 1.41.59.51 0 1.02-.2 1.41-.59l7.78-7.78 2.81-2.81c.8-.78.8-2.07 0-2.86zM5.41 20L4 18.59l7.72-7.72 1.47 1.35L5.41 20z\"/>\n",
              "  </svg>\n",
              "      </button>\n",
              "      \n",
              "  <style>\n",
              "    .colab-df-container {\n",
              "      display:flex;\n",
              "      flex-wrap:wrap;\n",
              "      gap: 12px;\n",
              "    }\n",
              "\n",
              "    .colab-df-convert {\n",
              "      background-color: #E8F0FE;\n",
              "      border: none;\n",
              "      border-radius: 50%;\n",
              "      cursor: pointer;\n",
              "      display: none;\n",
              "      fill: #1967D2;\n",
              "      height: 32px;\n",
              "      padding: 0 0 0 0;\n",
              "      width: 32px;\n",
              "    }\n",
              "\n",
              "    .colab-df-convert:hover {\n",
              "      background-color: #E2EBFA;\n",
              "      box-shadow: 0px 1px 2px rgba(60, 64, 67, 0.3), 0px 1px 3px 1px rgba(60, 64, 67, 0.15);\n",
              "      fill: #174EA6;\n",
              "    }\n",
              "\n",
              "    [theme=dark] .colab-df-convert {\n",
              "      background-color: #3B4455;\n",
              "      fill: #D2E3FC;\n",
              "    }\n",
              "\n",
              "    [theme=dark] .colab-df-convert:hover {\n",
              "      background-color: #434B5C;\n",
              "      box-shadow: 0px 1px 3px 1px rgba(0, 0, 0, 0.15);\n",
              "      filter: drop-shadow(0px 1px 2px rgba(0, 0, 0, 0.3));\n",
              "      fill: #FFFFFF;\n",
              "    }\n",
              "  </style>\n",
              "\n",
              "      <script>\n",
              "        const buttonEl =\n",
              "          document.querySelector('#df-0ee1fed3-eff3-4c6e-8f7b-b7d2c329b162 button.colab-df-convert');\n",
              "        buttonEl.style.display =\n",
              "          google.colab.kernel.accessAllowed ? 'block' : 'none';\n",
              "\n",
              "        async function convertToInteractive(key) {\n",
              "          const element = document.querySelector('#df-0ee1fed3-eff3-4c6e-8f7b-b7d2c329b162');\n",
              "          const dataTable =\n",
              "            await google.colab.kernel.invokeFunction('convertToInteractive',\n",
              "                                                     [key], {});\n",
              "          if (!dataTable) return;\n",
              "\n",
              "          const docLinkHtml = 'Like what you see? Visit the ' +\n",
              "            '<a target=\"_blank\" href=https://colab.research.google.com/notebooks/data_table.ipynb>data table notebook</a>'\n",
              "            + ' to learn more about interactive tables.';\n",
              "          element.innerHTML = '';\n",
              "          dataTable['output_type'] = 'display_data';\n",
              "          await google.colab.output.renderOutput(dataTable, element);\n",
              "          const docLink = document.createElement('div');\n",
              "          docLink.innerHTML = docLinkHtml;\n",
              "          element.appendChild(docLink);\n",
              "        }\n",
              "      </script>\n",
              "    </div>\n",
              "  </div>\n",
              "  "
            ]
          },
          "metadata": {},
          "execution_count": 91
        }
      ]
    },
    {
      "cell_type": "markdown",
      "source": [
        "#Encoding Categorical values\n"
      ],
      "metadata": {
        "id": "PEqxjMoz35ei"
      }
    },
    {
      "cell_type": "code",
      "source": [
        "df = df.drop(['PatientName'], axis=1)"
      ],
      "metadata": {
        "id": "3WcOaTmrDxQD"
      },
      "execution_count": 92,
      "outputs": []
    },
    {
      "cell_type": "code",
      "source": [
        "df['DataCollectionPlace'].unique()"
      ],
      "metadata": {
        "colab": {
          "base_uri": "https://localhost:8080/"
        },
        "id": "2An3nkAW35DJ",
        "outputId": "7417bcdc-5c71-4439-e195-6d4d3e7a75ff"
      },
      "execution_count": 93,
      "outputs": [
        {
          "output_type": "execute_result",
          "data": {
            "text/plain": [
              "array(['Hospitals Doctor Chamber', 'Hospital Ward'], dtype=object)"
            ]
          },
          "metadata": {},
          "execution_count": 93
        }
      ]
    },
    {
      "cell_type": "code",
      "source": [
        "df['DataCollectionPlace'] = df['DataCollectionPlace'].map({'Hospitals Doctor Chamber': 1, 'Hospital Ward':2})\n",
        "print(df.DataCollectionPlace.unique())"
      ],
      "metadata": {
        "colab": {
          "base_uri": "https://localhost:8080/"
        },
        "id": "UA6hkwFf4BYS",
        "outputId": "dd901d4c-2fb1-49fa-c7de-001a9d79a14c"
      },
      "execution_count": 94,
      "outputs": [
        {
          "output_type": "stream",
          "name": "stdout",
          "text": [
            "[1 2]\n"
          ]
        }
      ]
    },
    {
      "cell_type": "code",
      "source": [
        "df['Age'].unique()"
      ],
      "metadata": {
        "colab": {
          "base_uri": "https://localhost:8080/"
        },
        "id": "YKqMFhq04XTW",
        "outputId": "6920c273-92c0-465a-b6e8-c7b2535cd674"
      },
      "execution_count": 95,
      "outputs": [
        {
          "output_type": "execute_result",
          "data": {
            "text/plain": [
              "array(['65+', '45-64', '25-44', '15-24'], dtype=object)"
            ]
          },
          "metadata": {},
          "execution_count": 95
        }
      ]
    },
    {
      "cell_type": "code",
      "source": [
        "df['Age'] = df['Age'].map({'15-24': 1, '25-44':2, '45-64':3,'65+':4})\n",
        "print(df.Age.unique())"
      ],
      "metadata": {
        "colab": {
          "base_uri": "https://localhost:8080/"
        },
        "id": "D85m4bsd4pjz",
        "outputId": "e11309bf-fbbb-4627-87b1-1f533b253a4c"
      },
      "execution_count": 96,
      "outputs": [
        {
          "output_type": "stream",
          "name": "stdout",
          "text": [
            "[4 3 2 1]\n"
          ]
        }
      ]
    },
    {
      "cell_type": "code",
      "source": [
        "df['Gender'].unique()"
      ],
      "metadata": {
        "colab": {
          "base_uri": "https://localhost:8080/"
        },
        "id": "rsP9FlJ_5H9T",
        "outputId": "884be389-c1d6-4d8a-dbdd-c77746bbac77"
      },
      "execution_count": 97,
      "outputs": [
        {
          "output_type": "execute_result",
          "data": {
            "text/plain": [
              "array(['Male', 'Female'], dtype=object)"
            ]
          },
          "metadata": {},
          "execution_count": 97
        }
      ]
    },
    {
      "cell_type": "code",
      "source": [
        "df['Gender'] = df['Gender'].map({'Male': 1, 'Female':2})\n",
        "print(df.Gender.unique())"
      ],
      "metadata": {
        "colab": {
          "base_uri": "https://localhost:8080/"
        },
        "id": "3y3xs6qb5L2l",
        "outputId": "5e8ce60f-44f1-40fd-9521-952047bea2d9"
      },
      "execution_count": 98,
      "outputs": [
        {
          "output_type": "stream",
          "name": "stdout",
          "text": [
            "[1 2]\n"
          ]
        }
      ]
    },
    {
      "cell_type": "code",
      "source": [
        "df['CurrentAddress'].unique()"
      ],
      "metadata": {
        "colab": {
          "base_uri": "https://localhost:8080/"
        },
        "id": "Ttn056PB5UtR",
        "outputId": "e0d129b2-2f01-4ffe-8056-b76b53dfef60"
      },
      "execution_count": 99,
      "outputs": [
        {
          "output_type": "execute_result",
          "data": {
            "text/plain": [
              "array(['Kishoregonj', 'Jhalokathi', 'Tangail', nan, 'Cumilla',\n",
              "       'Gopalgonj', 'Jhinaidah', 'Barisal', 'Narayanginj', 'Dhaka',\n",
              "       'Bogura', 'Feni', 'Sylhet', 'Tongi', 'Dinajpur', 'Thakurgaon',\n",
              "       'Nilfamari', 'Rangamati', 'Pabna', 'Noakhali', 'Bhola', 'Jamalpur',\n",
              "       'Narail', 'Kurigram', 'Chittagong', \"Cox's Bazar\", 'Mymensingh'],\n",
              "      dtype=object)"
            ]
          },
          "metadata": {},
          "execution_count": 99
        }
      ]
    },
    {
      "cell_type": "code",
      "source": [
        "df['Education'].unique()"
      ],
      "metadata": {
        "colab": {
          "base_uri": "https://localhost:8080/"
        },
        "id": "PMP71Zjb5mze",
        "outputId": "1dadd837-dbad-4c81-f7c4-077ec6041d75"
      },
      "execution_count": 100,
      "outputs": [
        {
          "output_type": "execute_result",
          "data": {
            "text/plain": [
              "array(['<SSC', 'SSC', 'HSC', 'Bachelor', 'Diploma', 'Ph.D', 'Masters'],\n",
              "      dtype=object)"
            ]
          },
          "metadata": {},
          "execution_count": 100
        }
      ]
    },
    {
      "cell_type": "code",
      "source": [
        "df['Education'] = df['Education'].map({'<SSC': 1, 'SSC':2, 'HSC':3,'Bachelor':4 ,'Diploma':5,'Ph.D':6,'Masters':7})\n",
        "print(df.Education.unique())"
      ],
      "metadata": {
        "colab": {
          "base_uri": "https://localhost:8080/"
        },
        "id": "JNtJPSKG72_Z",
        "outputId": "eea21119-374f-4e69-8e18-3ac99abb464e"
      },
      "execution_count": 101,
      "outputs": [
        {
          "output_type": "stream",
          "name": "stdout",
          "text": [
            "[1 2 3 4 5 6 7]\n"
          ]
        }
      ]
    },
    {
      "cell_type": "code",
      "source": [
        "df['Profession'].unique()"
      ],
      "metadata": {
        "colab": {
          "base_uri": "https://localhost:8080/"
        },
        "id": "MlyW62liEAU5",
        "outputId": "e74ccf4f-fb99-4e03-ca99-9c83a36b82d8"
      },
      "execution_count": 102,
      "outputs": [
        {
          "output_type": "execute_result",
          "data": {
            "text/plain": [
              "array(['Farmer', 'Shop Keeper', 'House Works', 'CNG Driver', 'Retired',\n",
              "       'Small Business', 'House Wife', 'House WIfe', 'Teacher', 'Student',\n",
              "       'E-Commerce Businessman', 'Job Holder', 'Day Labour', 'Banker',\n",
              "       'Government Job', 'Business', 'Defense'], dtype=object)"
            ]
          },
          "metadata": {},
          "execution_count": 102
        }
      ]
    },
    {
      "cell_type": "code",
      "source": [
        "df['Profession'] = df['Profession'].map({'Farmer': 1, 'Shop Keeper':2, 'House Works':3,'CNG Driver':4 ,'Retired':5,'Small Business':6,\n",
        "                                         'House Wife':7, 'Teacher':8, 'Student':9,'E-Commerce Businessman':10, 'Business':10,'Job Holder':11,\n",
        "                                         'Day Labour':12, 'Banker':13, 'Government Job':14, 'Defense':15})\n",
        "print(df.Education.unique())"
      ],
      "metadata": {
        "colab": {
          "base_uri": "https://localhost:8080/"
        },
        "id": "GAdVNkm4FOYH",
        "outputId": "3632b320-1543-4f08-d587-c923e8bbacc1"
      },
      "execution_count": 103,
      "outputs": [
        {
          "output_type": "stream",
          "name": "stdout",
          "text": [
            "[1 2 3 4 5 6 7]\n"
          ]
        }
      ]
    },
    {
      "cell_type": "code",
      "source": [
        "df['Religion'].unique()"
      ],
      "metadata": {
        "colab": {
          "base_uri": "https://localhost:8080/"
        },
        "id": "tQuxIAZZGG94",
        "outputId": "72791cf6-4b5c-4df3-d358-924474972a5a"
      },
      "execution_count": 104,
      "outputs": [
        {
          "output_type": "execute_result",
          "data": {
            "text/plain": [
              "array(['Islam'], dtype=object)"
            ]
          },
          "metadata": {},
          "execution_count": 104
        }
      ]
    },
    {
      "cell_type": "code",
      "source": [
        "df['Religion'] = df['Religion'].map({'Islam': 1})\n",
        "print(df.Religion.unique())"
      ],
      "metadata": {
        "colab": {
          "base_uri": "https://localhost:8080/"
        },
        "id": "l82keVhaGKu_",
        "outputId": "35c39f76-ad5f-4931-8744-17db57d4249b"
      },
      "execution_count": 105,
      "outputs": [
        {
          "output_type": "stream",
          "name": "stdout",
          "text": [
            "[1]\n"
          ]
        }
      ]
    },
    {
      "cell_type": "code",
      "source": [
        "df['MaritalStatus'].unique()"
      ],
      "metadata": {
        "colab": {
          "base_uri": "https://localhost:8080/"
        },
        "id": "xUJZ7TCCGc9z",
        "outputId": "0c5a97d5-fab4-4383-bca1-87123a536d1f"
      },
      "execution_count": 106,
      "outputs": [
        {
          "output_type": "execute_result",
          "data": {
            "text/plain": [
              "array(['Married', 'Widowed', 'Unmarried', 'Divorced'], dtype=object)"
            ]
          },
          "metadata": {},
          "execution_count": 106
        }
      ]
    },
    {
      "cell_type": "code",
      "source": [
        "df['MaritalStatus'] = df['MaritalStatus'].map({'Married': 1, 'Unmarried':2, 'Widowed':3, 'Divorced':4})\n",
        "print(df.MaritalStatus.unique())"
      ],
      "metadata": {
        "colab": {
          "base_uri": "https://localhost:8080/"
        },
        "id": "a242QC8qGgCX",
        "outputId": "f3d26b80-0942-4d71-fbe7-ed9f3bf96f99"
      },
      "execution_count": 107,
      "outputs": [
        {
          "output_type": "stream",
          "name": "stdout",
          "text": [
            "[1 3 2 4]\n"
          ]
        }
      ]
    },
    {
      "cell_type": "code",
      "source": [
        "# for instance dropping this current address column, may use for later purpose\n",
        "df=df.drop(['CurrentAddress', 'DataCollectedBy'], axis=1)"
      ],
      "metadata": {
        "id": "WfetM1cEG08l"
      },
      "execution_count": 108,
      "outputs": []
    },
    {
      "cell_type": "code",
      "source": [
        "df.head()"
      ],
      "metadata": {
        "colab": {
          "base_uri": "https://localhost:8080/",
          "height": 357
        },
        "id": "xIUpx5y2Do94",
        "outputId": "f50d3c88-ef7c-4795-b98a-73932cd10990"
      },
      "execution_count": 109,
      "outputs": [
        {
          "output_type": "execute_result",
          "data": {
            "text/plain": [
              "   DataCollectionPlace  Age  Gender  Education  Profession  Religion  \\\n",
              "0                    1    4       1          1         1.0         1   \n",
              "1                    1    4       1          2         2.0         1   \n",
              "2                    1    3       1          1         3.0         1   \n",
              "3                    1    2       1          1         4.0         1   \n",
              "4                    2    3       1          2         5.0         1   \n",
              "\n",
              "   MaritalStatus  TotalChildCount  GirlChild  BoyChild MonthlyEarning  \\\n",
              "0              1              4.0        1.0       3.0           <10K   \n",
              "1              1              1.0        1.0       0.0           <10K   \n",
              "2              3              5.0        1.0       4.0           <10K   \n",
              "3              1              NaN        NaN       NaN           <10K   \n",
              "4              1              3.0        1.0       2.0           <10K   \n",
              "\n",
              "  CancerType  CancerStage AdmittedHospital Operation FamilyMemberCancer  \\\n",
              "0       Anal          3.0              Yes       Yes                 No   \n",
              "1      Blood          1.0              Yes        No                 No   \n",
              "2     Throat          3.0              Yes        No                 No   \n",
              "3     Throat          NaN              Yes       Yes                Yes   \n",
              "4      Lungs          3.0              Yes       Yes                 No   \n",
              "\n",
              "  FamMemSupport HospitalFeesPaymentIssue Loan ElectronicDeviceforContact  \\\n",
              "0           Yes                Sometimes  Yes                         No   \n",
              "1           Yes         Almost Regularly  Yes                        Yes   \n",
              "2           Yes         Almost Regularly   No                        Yes   \n",
              "3           Yes                Regularly  Yes                        Yes   \n",
              "4           Yes                Regularly  Yes                        Yes   \n",
              "\n",
              "  ElectronicDeviceType ContactDeviceWithDoctor InternetAccess  \\\n",
              "0                  NaN              Not at all             No   \n",
              "1           Smartphone               Sometimes            Yes   \n",
              "2        Button Mobile              Not at all             No   \n",
              "3        Button Mobile              Not at all             No   \n",
              "4        Button Mobile               Sometimes             No   \n",
              "\n",
              "  InternetUseExperience InternetUseForCancer                     PHQ1  \\\n",
              "0         No Experience           Not at all               Not at all   \n",
              "1                Senior           Not at all            Several\\ndays   \n",
              "2         No Experience           Not at all        Nearly\\nevery day   \n",
              "3         No Experience           Not at all        Nearly\\nevery day   \n",
              "4         No Experience           Not at all  More than half the days   \n",
              "\n",
              "                      PHQ2                     PHQ3                     PHQ4  \\\n",
              "0  More than half the days        Nearly\\nevery day        Nearly\\nevery day   \n",
              "1        Nearly\\nevery day               Not at all        Nearly\\nevery day   \n",
              "2            Several\\ndays            Several\\ndays        Nearly\\nevery day   \n",
              "3        Nearly\\nevery day        Nearly\\nevery day               Not at all   \n",
              "4  More than half the days  More than half the days  More than half the days   \n",
              "\n",
              "                      PHQ5                     PHQ6                     PHQ7  \\\n",
              "0        Nearly\\nevery day  More than half the days  More than half the days   \n",
              "1  More than half the days        Nearly\\nevery day        Nearly\\nevery day   \n",
              "2               Not at all               Not at all               Not at all   \n",
              "3            Several\\ndays  More than half the days  More than half the days   \n",
              "4        Nearly\\nevery day            Several\\ndays  More than half the days   \n",
              "\n",
              "                      PHQ8                     PHQ9        PHQ10  \\\n",
              "0  More than half the days            Several\\ndays        Tough   \n",
              "1        Nearly\\nevery day               Not at all  Not Tougher   \n",
              "2               Not at all               Not at all  Not Tougher   \n",
              "3            Several\\ndays  More than half the days  Not Tougher   \n",
              "4  More than half the days               Not at all        Tough   \n",
              "\n",
              "  PatientConfused OurPurpose    PatientType CancerInMyBody  \n",
              "0              No    Neutral    Open Minded            Yes  \n",
              "1              No   Friendly    Open Minded             No  \n",
              "2              No   Friendly    Open Minded             No  \n",
              "3              No   Friendly    Open Minded             No  \n",
              "4              No    Neutral  narrow Minded             No  "
            ],
            "text/html": [
              "\n",
              "  <div id=\"df-a2a049ca-66d9-48d3-9425-6fb9393427c6\">\n",
              "    <div class=\"colab-df-container\">\n",
              "      <div>\n",
              "<style scoped>\n",
              "    .dataframe tbody tr th:only-of-type {\n",
              "        vertical-align: middle;\n",
              "    }\n",
              "\n",
              "    .dataframe tbody tr th {\n",
              "        vertical-align: top;\n",
              "    }\n",
              "\n",
              "    .dataframe thead th {\n",
              "        text-align: right;\n",
              "    }\n",
              "</style>\n",
              "<table border=\"1\" class=\"dataframe\">\n",
              "  <thead>\n",
              "    <tr style=\"text-align: right;\">\n",
              "      <th></th>\n",
              "      <th>DataCollectionPlace</th>\n",
              "      <th>Age</th>\n",
              "      <th>Gender</th>\n",
              "      <th>Education</th>\n",
              "      <th>Profession</th>\n",
              "      <th>Religion</th>\n",
              "      <th>MaritalStatus</th>\n",
              "      <th>TotalChildCount</th>\n",
              "      <th>GirlChild</th>\n",
              "      <th>BoyChild</th>\n",
              "      <th>MonthlyEarning</th>\n",
              "      <th>CancerType</th>\n",
              "      <th>CancerStage</th>\n",
              "      <th>AdmittedHospital</th>\n",
              "      <th>Operation</th>\n",
              "      <th>FamilyMemberCancer</th>\n",
              "      <th>FamMemSupport</th>\n",
              "      <th>HospitalFeesPaymentIssue</th>\n",
              "      <th>Loan</th>\n",
              "      <th>ElectronicDeviceforContact</th>\n",
              "      <th>ElectronicDeviceType</th>\n",
              "      <th>ContactDeviceWithDoctor</th>\n",
              "      <th>InternetAccess</th>\n",
              "      <th>InternetUseExperience</th>\n",
              "      <th>InternetUseForCancer</th>\n",
              "      <th>PHQ1</th>\n",
              "      <th>PHQ2</th>\n",
              "      <th>PHQ3</th>\n",
              "      <th>PHQ4</th>\n",
              "      <th>PHQ5</th>\n",
              "      <th>PHQ6</th>\n",
              "      <th>PHQ7</th>\n",
              "      <th>PHQ8</th>\n",
              "      <th>PHQ9</th>\n",
              "      <th>PHQ10</th>\n",
              "      <th>PatientConfused</th>\n",
              "      <th>OurPurpose</th>\n",
              "      <th>PatientType</th>\n",
              "      <th>CancerInMyBody</th>\n",
              "    </tr>\n",
              "  </thead>\n",
              "  <tbody>\n",
              "    <tr>\n",
              "      <th>0</th>\n",
              "      <td>1</td>\n",
              "      <td>4</td>\n",
              "      <td>1</td>\n",
              "      <td>1</td>\n",
              "      <td>1.0</td>\n",
              "      <td>1</td>\n",
              "      <td>1</td>\n",
              "      <td>4.0</td>\n",
              "      <td>1.0</td>\n",
              "      <td>3.0</td>\n",
              "      <td>&lt;10K</td>\n",
              "      <td>Anal</td>\n",
              "      <td>3.0</td>\n",
              "      <td>Yes</td>\n",
              "      <td>Yes</td>\n",
              "      <td>No</td>\n",
              "      <td>Yes</td>\n",
              "      <td>Sometimes</td>\n",
              "      <td>Yes</td>\n",
              "      <td>No</td>\n",
              "      <td>NaN</td>\n",
              "      <td>Not at all</td>\n",
              "      <td>No</td>\n",
              "      <td>No Experience</td>\n",
              "      <td>Not at all</td>\n",
              "      <td>Not at all</td>\n",
              "      <td>More than half the days</td>\n",
              "      <td>Nearly\\nevery day</td>\n",
              "      <td>Nearly\\nevery day</td>\n",
              "      <td>Nearly\\nevery day</td>\n",
              "      <td>More than half the days</td>\n",
              "      <td>More than half the days</td>\n",
              "      <td>More than half the days</td>\n",
              "      <td>Several\\ndays</td>\n",
              "      <td>Tough</td>\n",
              "      <td>No</td>\n",
              "      <td>Neutral</td>\n",
              "      <td>Open Minded</td>\n",
              "      <td>Yes</td>\n",
              "    </tr>\n",
              "    <tr>\n",
              "      <th>1</th>\n",
              "      <td>1</td>\n",
              "      <td>4</td>\n",
              "      <td>1</td>\n",
              "      <td>2</td>\n",
              "      <td>2.0</td>\n",
              "      <td>1</td>\n",
              "      <td>1</td>\n",
              "      <td>1.0</td>\n",
              "      <td>1.0</td>\n",
              "      <td>0.0</td>\n",
              "      <td>&lt;10K</td>\n",
              "      <td>Blood</td>\n",
              "      <td>1.0</td>\n",
              "      <td>Yes</td>\n",
              "      <td>No</td>\n",
              "      <td>No</td>\n",
              "      <td>Yes</td>\n",
              "      <td>Almost Regularly</td>\n",
              "      <td>Yes</td>\n",
              "      <td>Yes</td>\n",
              "      <td>Smartphone</td>\n",
              "      <td>Sometimes</td>\n",
              "      <td>Yes</td>\n",
              "      <td>Senior</td>\n",
              "      <td>Not at all</td>\n",
              "      <td>Several\\ndays</td>\n",
              "      <td>Nearly\\nevery day</td>\n",
              "      <td>Not at all</td>\n",
              "      <td>Nearly\\nevery day</td>\n",
              "      <td>More than half the days</td>\n",
              "      <td>Nearly\\nevery day</td>\n",
              "      <td>Nearly\\nevery day</td>\n",
              "      <td>Nearly\\nevery day</td>\n",
              "      <td>Not at all</td>\n",
              "      <td>Not Tougher</td>\n",
              "      <td>No</td>\n",
              "      <td>Friendly</td>\n",
              "      <td>Open Minded</td>\n",
              "      <td>No</td>\n",
              "    </tr>\n",
              "    <tr>\n",
              "      <th>2</th>\n",
              "      <td>1</td>\n",
              "      <td>3</td>\n",
              "      <td>1</td>\n",
              "      <td>1</td>\n",
              "      <td>3.0</td>\n",
              "      <td>1</td>\n",
              "      <td>3</td>\n",
              "      <td>5.0</td>\n",
              "      <td>1.0</td>\n",
              "      <td>4.0</td>\n",
              "      <td>&lt;10K</td>\n",
              "      <td>Throat</td>\n",
              "      <td>3.0</td>\n",
              "      <td>Yes</td>\n",
              "      <td>No</td>\n",
              "      <td>No</td>\n",
              "      <td>Yes</td>\n",
              "      <td>Almost Regularly</td>\n",
              "      <td>No</td>\n",
              "      <td>Yes</td>\n",
              "      <td>Button Mobile</td>\n",
              "      <td>Not at all</td>\n",
              "      <td>No</td>\n",
              "      <td>No Experience</td>\n",
              "      <td>Not at all</td>\n",
              "      <td>Nearly\\nevery day</td>\n",
              "      <td>Several\\ndays</td>\n",
              "      <td>Several\\ndays</td>\n",
              "      <td>Nearly\\nevery day</td>\n",
              "      <td>Not at all</td>\n",
              "      <td>Not at all</td>\n",
              "      <td>Not at all</td>\n",
              "      <td>Not at all</td>\n",
              "      <td>Not at all</td>\n",
              "      <td>Not Tougher</td>\n",
              "      <td>No</td>\n",
              "      <td>Friendly</td>\n",
              "      <td>Open Minded</td>\n",
              "      <td>No</td>\n",
              "    </tr>\n",
              "    <tr>\n",
              "      <th>3</th>\n",
              "      <td>1</td>\n",
              "      <td>2</td>\n",
              "      <td>1</td>\n",
              "      <td>1</td>\n",
              "      <td>4.0</td>\n",
              "      <td>1</td>\n",
              "      <td>1</td>\n",
              "      <td>NaN</td>\n",
              "      <td>NaN</td>\n",
              "      <td>NaN</td>\n",
              "      <td>&lt;10K</td>\n",
              "      <td>Throat</td>\n",
              "      <td>NaN</td>\n",
              "      <td>Yes</td>\n",
              "      <td>Yes</td>\n",
              "      <td>Yes</td>\n",
              "      <td>Yes</td>\n",
              "      <td>Regularly</td>\n",
              "      <td>Yes</td>\n",
              "      <td>Yes</td>\n",
              "      <td>Button Mobile</td>\n",
              "      <td>Not at all</td>\n",
              "      <td>No</td>\n",
              "      <td>No Experience</td>\n",
              "      <td>Not at all</td>\n",
              "      <td>Nearly\\nevery day</td>\n",
              "      <td>Nearly\\nevery day</td>\n",
              "      <td>Nearly\\nevery day</td>\n",
              "      <td>Not at all</td>\n",
              "      <td>Several\\ndays</td>\n",
              "      <td>More than half the days</td>\n",
              "      <td>More than half the days</td>\n",
              "      <td>Several\\ndays</td>\n",
              "      <td>More than half the days</td>\n",
              "      <td>Not Tougher</td>\n",
              "      <td>No</td>\n",
              "      <td>Friendly</td>\n",
              "      <td>Open Minded</td>\n",
              "      <td>No</td>\n",
              "    </tr>\n",
              "    <tr>\n",
              "      <th>4</th>\n",
              "      <td>2</td>\n",
              "      <td>3</td>\n",
              "      <td>1</td>\n",
              "      <td>2</td>\n",
              "      <td>5.0</td>\n",
              "      <td>1</td>\n",
              "      <td>1</td>\n",
              "      <td>3.0</td>\n",
              "      <td>1.0</td>\n",
              "      <td>2.0</td>\n",
              "      <td>&lt;10K</td>\n",
              "      <td>Lungs</td>\n",
              "      <td>3.0</td>\n",
              "      <td>Yes</td>\n",
              "      <td>Yes</td>\n",
              "      <td>No</td>\n",
              "      <td>Yes</td>\n",
              "      <td>Regularly</td>\n",
              "      <td>Yes</td>\n",
              "      <td>Yes</td>\n",
              "      <td>Button Mobile</td>\n",
              "      <td>Sometimes</td>\n",
              "      <td>No</td>\n",
              "      <td>No Experience</td>\n",
              "      <td>Not at all</td>\n",
              "      <td>More than half the days</td>\n",
              "      <td>More than half the days</td>\n",
              "      <td>More than half the days</td>\n",
              "      <td>More than half the days</td>\n",
              "      <td>Nearly\\nevery day</td>\n",
              "      <td>Several\\ndays</td>\n",
              "      <td>More than half the days</td>\n",
              "      <td>More than half the days</td>\n",
              "      <td>Not at all</td>\n",
              "      <td>Tough</td>\n",
              "      <td>No</td>\n",
              "      <td>Neutral</td>\n",
              "      <td>narrow Minded</td>\n",
              "      <td>No</td>\n",
              "    </tr>\n",
              "  </tbody>\n",
              "</table>\n",
              "</div>\n",
              "      <button class=\"colab-df-convert\" onclick=\"convertToInteractive('df-a2a049ca-66d9-48d3-9425-6fb9393427c6')\"\n",
              "              title=\"Convert this dataframe to an interactive table.\"\n",
              "              style=\"display:none;\">\n",
              "        \n",
              "  <svg xmlns=\"http://www.w3.org/2000/svg\" height=\"24px\"viewBox=\"0 0 24 24\"\n",
              "       width=\"24px\">\n",
              "    <path d=\"M0 0h24v24H0V0z\" fill=\"none\"/>\n",
              "    <path d=\"M18.56 5.44l.94 2.06.94-2.06 2.06-.94-2.06-.94-.94-2.06-.94 2.06-2.06.94zm-11 1L8.5 8.5l.94-2.06 2.06-.94-2.06-.94L8.5 2.5l-.94 2.06-2.06.94zm10 10l.94 2.06.94-2.06 2.06-.94-2.06-.94-.94-2.06-.94 2.06-2.06.94z\"/><path d=\"M17.41 7.96l-1.37-1.37c-.4-.4-.92-.59-1.43-.59-.52 0-1.04.2-1.43.59L10.3 9.45l-7.72 7.72c-.78.78-.78 2.05 0 2.83L4 21.41c.39.39.9.59 1.41.59.51 0 1.02-.2 1.41-.59l7.78-7.78 2.81-2.81c.8-.78.8-2.07 0-2.86zM5.41 20L4 18.59l7.72-7.72 1.47 1.35L5.41 20z\"/>\n",
              "  </svg>\n",
              "      </button>\n",
              "      \n",
              "  <style>\n",
              "    .colab-df-container {\n",
              "      display:flex;\n",
              "      flex-wrap:wrap;\n",
              "      gap: 12px;\n",
              "    }\n",
              "\n",
              "    .colab-df-convert {\n",
              "      background-color: #E8F0FE;\n",
              "      border: none;\n",
              "      border-radius: 50%;\n",
              "      cursor: pointer;\n",
              "      display: none;\n",
              "      fill: #1967D2;\n",
              "      height: 32px;\n",
              "      padding: 0 0 0 0;\n",
              "      width: 32px;\n",
              "    }\n",
              "\n",
              "    .colab-df-convert:hover {\n",
              "      background-color: #E2EBFA;\n",
              "      box-shadow: 0px 1px 2px rgba(60, 64, 67, 0.3), 0px 1px 3px 1px rgba(60, 64, 67, 0.15);\n",
              "      fill: #174EA6;\n",
              "    }\n",
              "\n",
              "    [theme=dark] .colab-df-convert {\n",
              "      background-color: #3B4455;\n",
              "      fill: #D2E3FC;\n",
              "    }\n",
              "\n",
              "    [theme=dark] .colab-df-convert:hover {\n",
              "      background-color: #434B5C;\n",
              "      box-shadow: 0px 1px 3px 1px rgba(0, 0, 0, 0.15);\n",
              "      filter: drop-shadow(0px 1px 2px rgba(0, 0, 0, 0.3));\n",
              "      fill: #FFFFFF;\n",
              "    }\n",
              "  </style>\n",
              "\n",
              "      <script>\n",
              "        const buttonEl =\n",
              "          document.querySelector('#df-a2a049ca-66d9-48d3-9425-6fb9393427c6 button.colab-df-convert');\n",
              "        buttonEl.style.display =\n",
              "          google.colab.kernel.accessAllowed ? 'block' : 'none';\n",
              "\n",
              "        async function convertToInteractive(key) {\n",
              "          const element = document.querySelector('#df-a2a049ca-66d9-48d3-9425-6fb9393427c6');\n",
              "          const dataTable =\n",
              "            await google.colab.kernel.invokeFunction('convertToInteractive',\n",
              "                                                     [key], {});\n",
              "          if (!dataTable) return;\n",
              "\n",
              "          const docLinkHtml = 'Like what you see? Visit the ' +\n",
              "            '<a target=\"_blank\" href=https://colab.research.google.com/notebooks/data_table.ipynb>data table notebook</a>'\n",
              "            + ' to learn more about interactive tables.';\n",
              "          element.innerHTML = '';\n",
              "          dataTable['output_type'] = 'display_data';\n",
              "          await google.colab.output.renderOutput(dataTable, element);\n",
              "          const docLink = document.createElement('div');\n",
              "          docLink.innerHTML = docLinkHtml;\n",
              "          element.appendChild(docLink);\n",
              "        }\n",
              "      </script>\n",
              "    </div>\n",
              "  </div>\n",
              "  "
            ]
          },
          "metadata": {},
          "execution_count": 109
        }
      ]
    },
    {
      "cell_type": "code",
      "source": [],
      "metadata": {
        "id": "v9I2oEILI4X8"
      },
      "execution_count": null,
      "outputs": []
    }
  ]
}